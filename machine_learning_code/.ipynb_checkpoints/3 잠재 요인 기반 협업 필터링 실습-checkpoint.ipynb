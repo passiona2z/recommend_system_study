{
 "cells": [
  {
   "cell_type": "code",
   "execution_count": 1,
   "metadata": {},
   "outputs": [],
   "source": [
    "from tqdm import tqdm"
   ]
  },
  {
   "cell_type": "markdown",
   "metadata": {},
   "source": [
    "### 경사하강을 이용한 행렬 분해"
   ]
  },
  {
   "cell_type": "markdown",
   "metadata": {},
   "source": [
    "**원본 행렬 R 및 R을 분해할 P와 Q를 임의의 정규분포를 가진 랜덤값으로 초기화**"
   ]
  },
  {
   "cell_type": "code",
   "execution_count": 2,
   "metadata": {},
   "outputs": [
    {
     "name": "stdout",
     "output_type": "stream",
     "text": [
      "P: [[ 0.54144845 -0.2039188  -0.17605725]\n",
      " [-0.35765621  0.28846921 -0.76717957]\n",
      " [ 0.58160392 -0.25373563  0.10634637]\n",
      " [-0.08312346  0.48736931 -0.68671357]]\n",
      "Q: [[-0.1074724  -0.12801812  0.37792315]\n",
      " [-0.36663042 -0.05747607 -0.29261947]\n",
      " [ 0.01407125  0.19427174 -0.36687306]\n",
      " [ 0.38157457  0.30053024  0.16749811]\n",
      " [ 0.30028532 -0.22790929 -0.04096341]]\n"
     ]
    }
   ],
   "source": [
    "# 실습\n",
    "import numpy as np\n",
    "\n",
    "# 원본 행렬 R 생성, 분해 행렬 P와 Q 초기화, 잠재요인 차원 K는 3 설정. \n",
    "R = np.array([[4, np.NaN, np.NaN, 2, np.NaN ],\n",
    "              [np.NaN, 5, np.NaN, 3, 1 ],\n",
    "              [np.NaN, np.NaN, 3, 4, 4 ],\n",
    "              [5, 2, 1, 2, np.NaN ]])\n",
    "\n",
    "num_users, num_items = R.shape\n",
    "K=3         # 4 X 3 * 3 X 5 \n",
    "\n",
    "# P와 Q 매트릭스의 크기를 지정하고 정규분포를 가진 random한 값으로 입력합니다. \n",
    "np.random.seed(1)\n",
    "P = np.random.normal(scale=1./K, size=(num_users, K))  # 정규분포\n",
    "Q = np.random.normal(scale=1./K, size=(num_items, K))\n",
    "print(\"P:\",P)\n",
    "print(\"Q:\",Q)"
   ]
  },
  {
   "cell_type": "markdown",
   "metadata": {},
   "source": [
    "**비용계산 함수를 생성. 분해된 행렬 P와 Q.T를 내적하여 예측 행렬 생성하고**\n",
    "\n",
    "**실제 행렬에서 널이 아닌 값의 위치에 있는 값만 예측 행렬의 값과 비교하여 RMSE값을 계산하고 반환**"
   ]
  },
  {
   "cell_type": "code",
   "execution_count": 3,
   "metadata": {},
   "outputs": [],
   "source": [
    "from sklearn.metrics import mean_squared_error\n",
    "\n",
    "def get_rmse(R, P, Q, non_zeros): # 예측행렬  \n",
    "    error = 0\n",
    "    # 두개의 분해된 행렬 P와 Q.T의 내적으로 예측 R 행렬 생성\n",
    "    full_pred_matrix = np.dot(P, Q.T)\n",
    "    \n",
    "    # 실제 R 행렬에서 널이 아닌 값의 위치 인덱스 추출하여 실제 R 행렬과 예측 행렬의 RMSE 추출\n",
    "    x_non_zero_ind = [non_zero[0] for non_zero in non_zeros] # 행 인덱스\n",
    "    y_non_zero_ind = [non_zero[1] for non_zero in non_zeros] # 열 인덱스\n",
    "    R_non_zeros = R[x_non_zero_ind, y_non_zero_ind]          # 실제값\n",
    "    full_pred_matrix_non_zeros = full_pred_matrix[x_non_zero_ind, y_non_zero_ind] # 상응되는 예측값\n",
    "      \n",
    "    mse = mean_squared_error(R_non_zeros, full_pred_matrix_non_zeros)\n",
    "    rmse = np.sqrt(mse)\n",
    "    \n",
    "    return rmse"
   ]
  },
  {
   "cell_type": "markdown",
   "metadata": {},
   "source": [
    "**경사하강법에 기반하여 P와 Q의 원소들을 업데이트 수행**\n"
   ]
  },
  {
   "cell_type": "code",
   "execution_count": 69,
   "metadata": {},
   "outputs": [
    {
     "name": "stdout",
     "output_type": "stream",
     "text": [
      "### iteration step :  0  rmse :  1.630025058954674\n",
      "### iteration step :  50  rmse :  0.03954728735598557\n",
      "### iteration step :  100  rmse :  0.01039168753012056\n",
      "### iteration step :  150  rmse :  0.009893510294040883\n",
      "### iteration step :  200  rmse :  0.010007416875073715\n",
      "### iteration step :  250  rmse :  0.010144118854553396\n",
      "### iteration step :  300  rmse :  0.010280490699482735\n",
      "### iteration step :  350  rmse :  0.010414945607089795\n",
      "### iteration step :  400  rmse :  0.01054722719934397\n",
      "### iteration step :  450  rmse :  0.010677181829211744\n",
      "### iteration step :  500  rmse :  0.010804669187297219\n",
      "### iteration step :  550  rmse :  0.010929555972390474\n",
      "### iteration step :  600  rmse :  0.0110517161882142\n",
      "### iteration step :  650  rmse :  0.011171031962425597\n",
      "### iteration step :  700  rmse :  0.011287394356545752\n",
      "### iteration step :  750  rmse :  0.011400704105292038\n",
      "### iteration step :  800  rmse :  0.011510872266534295\n",
      "### iteration step :  850  rmse :  0.011617820768890183\n",
      "### iteration step :  900  rmse :  0.011721482846686537\n",
      "### iteration step :  950  rmse :  0.011821803354757528\n"
     ]
    }
   ],
   "source": [
    "# R > 0 인 행 위치, 열 위치, 값을 non_zeros 리스트에 저장\n",
    "# 행 인덱스, 열 인덱스, 값 \n",
    "\n",
    "non_zeros = [ (i, j, R[i,j]) for i in range(num_users) for j in range(num_items) if R[i,j] > 0 ]\n",
    "\n",
    "'''\n",
    "for j in range(num_items)\n",
    "    for i in range(num_users)\n",
    "        if R[i,j] > 0 :\n",
    "            non_zeros.append(i, j, R[i,j])\n",
    "\n",
    "'''\n",
    "\n",
    "steps=1000\n",
    "learning_rate=0.01   # 학습률\n",
    "r_lambda=0.01        # 규제\n",
    "\n",
    "# SGD 기법으로 P와 Q 매트릭스를 계속 업데이트. \n",
    "for step in range(steps):\n",
    "    for i, j, r in non_zeros:\n",
    "        # 실제 값과 예측 값의 차이인 오류 값 구함\n",
    "        eij = r - np.dot(P[i, :], Q[j, :].T)   # eij\"\n",
    "        # Regularization을 반영한 SGD 업데이트 공식 적용\n",
    "        P[i,:] = P[i,:] + learning_rate*(eij * Q[j, :] - r_lambda*P[i,:])\n",
    "        Q[j,:] = Q[j,:] + learning_rate*(eij * P[i, :] - r_lambda*Q[j,:])\n",
    "\n",
    "    rmse = get_rmse(R, P, Q, non_zeros) # 호출 # non_zeros\n",
    "    if (step % 50) == 0 :\n",
    "        print(\"### iteration step : \", step,\" rmse : \", rmse)"
   ]
  },
  {
   "cell_type": "code",
   "execution_count": 5,
   "metadata": {},
   "outputs": [
    {
     "name": "stdout",
     "output_type": "stream",
     "text": [
      "예측 행렬:\n",
      " [[-0.099 -0.135  0.033  0.116  0.216]\n",
      " [-0.288  0.339  0.332 -0.178 -0.142]\n",
      " [ 0.01  -0.23  -0.08   0.163  0.228]\n",
      " [-0.313  0.203  0.345 -0.    -0.108]]\n"
     ]
    }
   ],
   "source": [
    "# 업데이트된 행렬 확인\n",
    "pred_matrix = np.dot(P, Q.T)\n",
    "print('예측 행렬:\\n', np.round(pred_matrix, 3))"
   ]
  },
  {
   "cell_type": "markdown",
   "metadata": {},
   "source": [
    "### 행렬 분해 기반의 잠재 요인 협업 필터링 실습\n",
    "\n",
    "**경사하강법 기반의 행렬 분해 함수 생성**"
   ]
  },
  {
   "cell_type": "code",
   "execution_count": 6,
   "metadata": {},
   "outputs": [],
   "source": [
    "def matrix_factorization(R, K, steps=200, learning_rate=0.01, r_lambda = 0.01):   # 사용자 - 아이템 평점 data \n",
    "    \n",
    "    # 초기화\n",
    "    num_users, num_items = R.shape\n",
    "    \n",
    "    # P와 Q 매트릭스의 크기를 지정하고 정규분포를 가진 랜덤한 값으로 입력합니다. \n",
    "    np.random.seed(1)\n",
    "    P = np.random.normal(scale=1./K, size=(num_users, K))\n",
    "    Q = np.random.normal(scale=1./K, size=(num_items, K))\n",
    "\n",
    "    # break_count = 0\n",
    "       \n",
    "    # R > 0 인 행 위치, 열 위치, 값을 non_zeros 리스트 객체에 저장. \n",
    "    non_zeros = [ (i, j, R[i,j]) for i in range(num_users) for j in range(num_items) if R[i,j] > 0 ]\n",
    "   \n",
    "    # SGD기법으로 P와 Q 매트릭스를 계속 업데이트. \n",
    "    for step in tqdm(range(steps)):\n",
    "        for i, j, r in non_zeros:\n",
    "            # 실제 값과 예측 값의 차이인 오류 값 구함\n",
    "            eij = r - np.dot(P[i, :], Q[j, :].T)\n",
    "            # Regularization을 반영한 SGD 업데이트 공식 적용\n",
    "            P[i,:] = P[i,:] + learning_rate*(eij * Q[j, :] - r_lambda*P[i,:])\n",
    "            Q[j,:] = Q[j,:] + learning_rate*(eij * P[i, :] - r_lambda*Q[j,:])\n",
    "       \n",
    "        rmse = get_rmse(R, P, Q, non_zeros)\n",
    "        if (step % 10) == 0 :\n",
    "            print(\"### iteration step : \", step,\" rmse : \", rmse)\n",
    "            \n",
    "    return P, Q"
   ]
  },
  {
   "cell_type": "code",
   "execution_count": 7,
   "metadata": {},
   "outputs": [],
   "source": [
    "import pandas as pd\n",
    "import numpy as np\n",
    "\n",
    "movies = pd.read_csv('../data/ml-latest-small/movies.csv')\n",
    "ratings = pd.read_csv('../data/ml-latest-small/ratings.csv')\n",
    "ratings = ratings[['userId', 'movieId', 'rating']]\n",
    "\n",
    "# title 컬럼을 얻기 이해 movies 와 조인 수행\n",
    "rating_movies = pd.merge(ratings, movies, on='movieId')\n",
    "\n",
    "# columns='title' 로 title 컬럼으로 pivot 수행. \n",
    "ratings_matrix = rating_movies.pivot_table('rating', index='userId', columns='title')"
   ]
  },
  {
   "cell_type": "code",
   "execution_count": 8,
   "metadata": {},
   "outputs": [
    {
     "data": {
      "text/plain": [
       "(610, 9719)"
      ]
     },
     "execution_count": 8,
     "metadata": {},
     "output_type": "execute_result"
    }
   ],
   "source": [
    "ratings_matrix.shape"
   ]
  },
  {
   "cell_type": "code",
   "execution_count": 9,
   "metadata": {},
   "outputs": [
    {
     "name": "stderr",
     "output_type": "stream",
     "text": [
      "  0%|          | 1/200 [00:01<03:36,  1.09s/it]"
     ]
    },
    {
     "name": "stdout",
     "output_type": "stream",
     "text": [
      "### iteration step :  0  rmse :  2.9023619751336867\n"
     ]
    },
    {
     "name": "stderr",
     "output_type": "stream",
     "text": [
      "  6%|▌         | 11/200 [00:12<03:35,  1.14s/it]"
     ]
    },
    {
     "name": "stdout",
     "output_type": "stream",
     "text": [
      "### iteration step :  10  rmse :  0.7335768591017927\n"
     ]
    },
    {
     "name": "stderr",
     "output_type": "stream",
     "text": [
      " 10%|█         | 21/200 [00:24<03:27,  1.16s/it]"
     ]
    },
    {
     "name": "stdout",
     "output_type": "stream",
     "text": [
      "### iteration step :  20  rmse :  0.5115539026853442\n"
     ]
    },
    {
     "name": "stderr",
     "output_type": "stream",
     "text": [
      " 16%|█▌        | 31/200 [00:35<03:18,  1.17s/it]"
     ]
    },
    {
     "name": "stdout",
     "output_type": "stream",
     "text": [
      "### iteration step :  30  rmse :  0.37261628282537446\n"
     ]
    },
    {
     "name": "stderr",
     "output_type": "stream",
     "text": [
      " 20%|██        | 41/200 [00:47<03:10,  1.20s/it]"
     ]
    },
    {
     "name": "stdout",
     "output_type": "stream",
     "text": [
      "### iteration step :  40  rmse :  0.2960818299181014\n"
     ]
    },
    {
     "name": "stderr",
     "output_type": "stream",
     "text": [
      " 26%|██▌       | 51/200 [00:59<02:54,  1.17s/it]"
     ]
    },
    {
     "name": "stdout",
     "output_type": "stream",
     "text": [
      "### iteration step :  50  rmse :  0.2520353192341643\n"
     ]
    },
    {
     "name": "stderr",
     "output_type": "stream",
     "text": [
      " 30%|███       | 61/200 [01:11<02:44,  1.18s/it]"
     ]
    },
    {
     "name": "stdout",
     "output_type": "stream",
     "text": [
      "### iteration step :  60  rmse :  0.22487503275269854\n"
     ]
    },
    {
     "name": "stderr",
     "output_type": "stream",
     "text": [
      " 36%|███▌      | 71/200 [01:23<02:33,  1.19s/it]"
     ]
    },
    {
     "name": "stdout",
     "output_type": "stream",
     "text": [
      "### iteration step :  70  rmse :  0.2068545530233154\n"
     ]
    },
    {
     "name": "stderr",
     "output_type": "stream",
     "text": [
      " 40%|████      | 81/200 [01:35<02:23,  1.21s/it]"
     ]
    },
    {
     "name": "stdout",
     "output_type": "stream",
     "text": [
      "### iteration step :  80  rmse :  0.19413418783028688\n"
     ]
    },
    {
     "name": "stderr",
     "output_type": "stream",
     "text": [
      " 46%|████▌     | 91/200 [01:47<02:14,  1.23s/it]"
     ]
    },
    {
     "name": "stdout",
     "output_type": "stream",
     "text": [
      "### iteration step :  90  rmse :  0.18470082002720406\n"
     ]
    },
    {
     "name": "stderr",
     "output_type": "stream",
     "text": [
      " 50%|█████     | 101/200 [02:00<02:03,  1.24s/it]"
     ]
    },
    {
     "name": "stdout",
     "output_type": "stream",
     "text": [
      "### iteration step :  100  rmse :  0.17742927527209104\n"
     ]
    },
    {
     "name": "stderr",
     "output_type": "stream",
     "text": [
      " 56%|█████▌    | 111/200 [02:12<01:48,  1.21s/it]"
     ]
    },
    {
     "name": "stdout",
     "output_type": "stream",
     "text": [
      "### iteration step :  110  rmse :  0.1716522696470749\n"
     ]
    },
    {
     "name": "stderr",
     "output_type": "stream",
     "text": [
      " 60%|██████    | 121/200 [02:24<01:35,  1.21s/it]"
     ]
    },
    {
     "name": "stdout",
     "output_type": "stream",
     "text": [
      "### iteration step :  120  rmse :  0.16695181946871723\n"
     ]
    },
    {
     "name": "stderr",
     "output_type": "stream",
     "text": [
      " 66%|██████▌   | 131/200 [02:36<01:23,  1.21s/it]"
     ]
    },
    {
     "name": "stdout",
     "output_type": "stream",
     "text": [
      "### iteration step :  130  rmse :  0.16305292191997542\n"
     ]
    },
    {
     "name": "stderr",
     "output_type": "stream",
     "text": [
      " 70%|███████   | 141/200 [02:48<01:11,  1.21s/it]"
     ]
    },
    {
     "name": "stdout",
     "output_type": "stream",
     "text": [
      "### iteration step :  140  rmse :  0.15976691929679646\n"
     ]
    },
    {
     "name": "stderr",
     "output_type": "stream",
     "text": [
      " 76%|███████▌  | 151/200 [03:00<00:59,  1.21s/it]"
     ]
    },
    {
     "name": "stdout",
     "output_type": "stream",
     "text": [
      "### iteration step :  150  rmse :  0.1569598699945732\n"
     ]
    },
    {
     "name": "stderr",
     "output_type": "stream",
     "text": [
      " 80%|████████  | 161/200 [03:12<00:46,  1.20s/it]"
     ]
    },
    {
     "name": "stdout",
     "output_type": "stream",
     "text": [
      "### iteration step :  160  rmse :  0.1545339818671543\n"
     ]
    },
    {
     "name": "stderr",
     "output_type": "stream",
     "text": [
      " 86%|████████▌ | 171/200 [03:25<00:35,  1.21s/it]"
     ]
    },
    {
     "name": "stdout",
     "output_type": "stream",
     "text": [
      "### iteration step :  170  rmse :  0.15241618551077643\n"
     ]
    },
    {
     "name": "stderr",
     "output_type": "stream",
     "text": [
      " 90%|█████████ | 181/200 [03:37<00:23,  1.22s/it]"
     ]
    },
    {
     "name": "stdout",
     "output_type": "stream",
     "text": [
      "### iteration step :  180  rmse :  0.1505508073962831\n"
     ]
    },
    {
     "name": "stderr",
     "output_type": "stream",
     "text": [
      " 96%|█████████▌| 191/200 [03:49<00:10,  1.21s/it]"
     ]
    },
    {
     "name": "stdout",
     "output_type": "stream",
     "text": [
      "### iteration step :  190  rmse :  0.14889470913232092\n"
     ]
    },
    {
     "name": "stderr",
     "output_type": "stream",
     "text": [
      "100%|██████████| 200/200 [04:00<00:00,  1.20s/it]\n"
     ]
    }
   ],
   "source": [
    "P, Q = matrix_factorization(ratings_matrix.values, K=50, steps=200, learning_rate=0.01, r_lambda = 0.01)\n",
    "pred_matrix = np.dot(P, Q.T)"
   ]
  },
  {
   "cell_type": "code",
   "execution_count": 10,
   "metadata": {},
   "outputs": [],
   "source": [
    "ratings_pred_matrix = pd.DataFrame(data=pred_matrix, index= ratings_matrix.index,\n",
    "                                   columns = ratings_matrix.columns)"
   ]
  },
  {
   "cell_type": "code",
   "execution_count": 11,
   "metadata": {},
   "outputs": [
    {
     "data": {
      "text/html": [
       "<div>\n",
       "<style scoped>\n",
       "    .dataframe tbody tr th:only-of-type {\n",
       "        vertical-align: middle;\n",
       "    }\n",
       "\n",
       "    .dataframe tbody tr th {\n",
       "        vertical-align: top;\n",
       "    }\n",
       "\n",
       "    .dataframe thead th {\n",
       "        text-align: right;\n",
       "    }\n",
       "</style>\n",
       "<table border=\"1\" class=\"dataframe\">\n",
       "  <thead>\n",
       "    <tr style=\"text-align: right;\">\n",
       "      <th>title</th>\n",
       "      <th>'71 (2014)</th>\n",
       "      <th>'Hellboy': The Seeds of Creation (2004)</th>\n",
       "      <th>'Round Midnight (1986)</th>\n",
       "      <th>'Salem's Lot (2004)</th>\n",
       "      <th>'Til There Was You (1997)</th>\n",
       "      <th>'Tis the Season for Love (2015)</th>\n",
       "      <th>'burbs, The (1989)</th>\n",
       "      <th>'night Mother (1986)</th>\n",
       "      <th>(500) Days of Summer (2009)</th>\n",
       "      <th>*batteries not included (1987)</th>\n",
       "      <th>...</th>\n",
       "      <th>Zulu (2013)</th>\n",
       "      <th>[REC] (2007)</th>\n",
       "      <th>[REC]² (2009)</th>\n",
       "      <th>[REC]³ 3 Génesis (2012)</th>\n",
       "      <th>anohana: The Flower We Saw That Day - The Movie (2013)</th>\n",
       "      <th>eXistenZ (1999)</th>\n",
       "      <th>xXx (2002)</th>\n",
       "      <th>xXx: State of the Union (2005)</th>\n",
       "      <th>¡Three Amigos! (1986)</th>\n",
       "      <th>À nous la liberté (Freedom for Us) (1931)</th>\n",
       "    </tr>\n",
       "    <tr>\n",
       "      <th>userId</th>\n",
       "      <th></th>\n",
       "      <th></th>\n",
       "      <th></th>\n",
       "      <th></th>\n",
       "      <th></th>\n",
       "      <th></th>\n",
       "      <th></th>\n",
       "      <th></th>\n",
       "      <th></th>\n",
       "      <th></th>\n",
       "      <th></th>\n",
       "      <th></th>\n",
       "      <th></th>\n",
       "      <th></th>\n",
       "      <th></th>\n",
       "      <th></th>\n",
       "      <th></th>\n",
       "      <th></th>\n",
       "      <th></th>\n",
       "      <th></th>\n",
       "      <th></th>\n",
       "    </tr>\n",
       "  </thead>\n",
       "  <tbody>\n",
       "    <tr>\n",
       "      <th>606</th>\n",
       "      <td>3.153469</td>\n",
       "      <td>3.536398</td>\n",
       "      <td>3.128222</td>\n",
       "      <td>3.875599</td>\n",
       "      <td>3.821362</td>\n",
       "      <td>1.010045</td>\n",
       "      <td>2.284450</td>\n",
       "      <td>2.287194</td>\n",
       "      <td>4.148796</td>\n",
       "      <td>3.487517</td>\n",
       "      <td>...</td>\n",
       "      <td>1.105429</td>\n",
       "      <td>3.647394</td>\n",
       "      <td>3.342759</td>\n",
       "      <td>2.446343</td>\n",
       "      <td>2.406133</td>\n",
       "      <td>3.613071</td>\n",
       "      <td>1.849264</td>\n",
       "      <td>1.526109</td>\n",
       "      <td>2.860815</td>\n",
       "      <td>0.673099</td>\n",
       "    </tr>\n",
       "    <tr>\n",
       "      <th>607</th>\n",
       "      <td>2.502048</td>\n",
       "      <td>3.577547</td>\n",
       "      <td>3.095692</td>\n",
       "      <td>4.081789</td>\n",
       "      <td>4.038996</td>\n",
       "      <td>1.095224</td>\n",
       "      <td>3.698198</td>\n",
       "      <td>1.904581</td>\n",
       "      <td>5.347442</td>\n",
       "      <td>3.114650</td>\n",
       "      <td>...</td>\n",
       "      <td>0.963407</td>\n",
       "      <td>3.230442</td>\n",
       "      <td>3.526719</td>\n",
       "      <td>2.084052</td>\n",
       "      <td>2.119598</td>\n",
       "      <td>4.135631</td>\n",
       "      <td>3.124109</td>\n",
       "      <td>2.362195</td>\n",
       "      <td>3.421672</td>\n",
       "      <td>0.758574</td>\n",
       "    </tr>\n",
       "    <tr>\n",
       "      <th>608</th>\n",
       "      <td>2.154503</td>\n",
       "      <td>3.019060</td>\n",
       "      <td>2.679379</td>\n",
       "      <td>3.567550</td>\n",
       "      <td>3.483444</td>\n",
       "      <td>0.909505</td>\n",
       "      <td>2.387003</td>\n",
       "      <td>1.644313</td>\n",
       "      <td>3.090541</td>\n",
       "      <td>3.197815</td>\n",
       "      <td>...</td>\n",
       "      <td>0.818661</td>\n",
       "      <td>3.372644</td>\n",
       "      <td>2.936734</td>\n",
       "      <td>2.049884</td>\n",
       "      <td>2.097775</td>\n",
       "      <td>4.452331</td>\n",
       "      <td>3.504461</td>\n",
       "      <td>1.906708</td>\n",
       "      <td>2.419560</td>\n",
       "      <td>0.701739</td>\n",
       "    </tr>\n",
       "    <tr>\n",
       "      <th>609</th>\n",
       "      <td>2.566479</td>\n",
       "      <td>3.285659</td>\n",
       "      <td>2.910122</td>\n",
       "      <td>3.717481</td>\n",
       "      <td>3.665580</td>\n",
       "      <td>1.036884</td>\n",
       "      <td>2.908776</td>\n",
       "      <td>1.844237</td>\n",
       "      <td>2.868990</td>\n",
       "      <td>3.175409</td>\n",
       "      <td>...</td>\n",
       "      <td>1.003584</td>\n",
       "      <td>3.033540</td>\n",
       "      <td>2.943151</td>\n",
       "      <td>2.173251</td>\n",
       "      <td>2.234396</td>\n",
       "      <td>3.839926</td>\n",
       "      <td>2.520343</td>\n",
       "      <td>1.603675</td>\n",
       "      <td>2.970382</td>\n",
       "      <td>0.636880</td>\n",
       "    </tr>\n",
       "    <tr>\n",
       "      <th>610</th>\n",
       "      <td>3.951789</td>\n",
       "      <td>3.549175</td>\n",
       "      <td>3.156069</td>\n",
       "      <td>4.050809</td>\n",
       "      <td>4.001964</td>\n",
       "      <td>1.206514</td>\n",
       "      <td>3.086769</td>\n",
       "      <td>2.383306</td>\n",
       "      <td>3.426834</td>\n",
       "      <td>3.763558</td>\n",
       "      <td>...</td>\n",
       "      <td>1.223902</td>\n",
       "      <td>3.977474</td>\n",
       "      <td>3.464065</td>\n",
       "      <td>2.972646</td>\n",
       "      <td>2.538213</td>\n",
       "      <td>4.019379</td>\n",
       "      <td>2.012463</td>\n",
       "      <td>1.528829</td>\n",
       "      <td>4.119260</td>\n",
       "      <td>0.751230</td>\n",
       "    </tr>\n",
       "  </tbody>\n",
       "</table>\n",
       "<p>5 rows × 9719 columns</p>\n",
       "</div>"
      ],
      "text/plain": [
       "title   '71 (2014)  'Hellboy': The Seeds of Creation (2004)  \\\n",
       "userId                                                        \n",
       "606       3.153469                                 3.536398   \n",
       "607       2.502048                                 3.577547   \n",
       "608       2.154503                                 3.019060   \n",
       "609       2.566479                                 3.285659   \n",
       "610       3.951789                                 3.549175   \n",
       "\n",
       "title   'Round Midnight (1986)  'Salem's Lot (2004)  \\\n",
       "userId                                                \n",
       "606                   3.128222             3.875599   \n",
       "607                   3.095692             4.081789   \n",
       "608                   2.679379             3.567550   \n",
       "609                   2.910122             3.717481   \n",
       "610                   3.156069             4.050809   \n",
       "\n",
       "title   'Til There Was You (1997)  'Tis the Season for Love (2015)  \\\n",
       "userId                                                               \n",
       "606                      3.821362                         1.010045   \n",
       "607                      4.038996                         1.095224   \n",
       "608                      3.483444                         0.909505   \n",
       "609                      3.665580                         1.036884   \n",
       "610                      4.001964                         1.206514   \n",
       "\n",
       "title   'burbs, The (1989)  'night Mother (1986)  (500) Days of Summer (2009)  \\\n",
       "userId                                                                          \n",
       "606               2.284450              2.287194                     4.148796   \n",
       "607               3.698198              1.904581                     5.347442   \n",
       "608               2.387003              1.644313                     3.090541   \n",
       "609               2.908776              1.844237                     2.868990   \n",
       "610               3.086769              2.383306                     3.426834   \n",
       "\n",
       "title   *batteries not included (1987)  ...  Zulu (2013)  [REC] (2007)  \\\n",
       "userId                                  ...                              \n",
       "606                           3.487517  ...     1.105429      3.647394   \n",
       "607                           3.114650  ...     0.963407      3.230442   \n",
       "608                           3.197815  ...     0.818661      3.372644   \n",
       "609                           3.175409  ...     1.003584      3.033540   \n",
       "610                           3.763558  ...     1.223902      3.977474   \n",
       "\n",
       "title   [REC]² (2009)  [REC]³ 3 Génesis (2012)  \\\n",
       "userId                                           \n",
       "606          3.342759                 2.446343   \n",
       "607          3.526719                 2.084052   \n",
       "608          2.936734                 2.049884   \n",
       "609          2.943151                 2.173251   \n",
       "610          3.464065                 2.972646   \n",
       "\n",
       "title   anohana: The Flower We Saw That Day - The Movie (2013)  \\\n",
       "userId                                                           \n",
       "606                                              2.406133        \n",
       "607                                              2.119598        \n",
       "608                                              2.097775        \n",
       "609                                              2.234396        \n",
       "610                                              2.538213        \n",
       "\n",
       "title   eXistenZ (1999)  xXx (2002)  xXx: State of the Union (2005)  \\\n",
       "userId                                                                \n",
       "606            3.613071    1.849264                        1.526109   \n",
       "607            4.135631    3.124109                        2.362195   \n",
       "608            4.452331    3.504461                        1.906708   \n",
       "609            3.839926    2.520343                        1.603675   \n",
       "610            4.019379    2.012463                        1.528829   \n",
       "\n",
       "title   ¡Three Amigos! (1986)  À nous la liberté (Freedom for Us) (1931)  \n",
       "userId                                                                    \n",
       "606                  2.860815                                   0.673099  \n",
       "607                  3.421672                                   0.758574  \n",
       "608                  2.419560                                   0.701739  \n",
       "609                  2.970382                                   0.636880  \n",
       "610                  4.119260                                   0.751230  \n",
       "\n",
       "[5 rows x 9719 columns]"
      ]
     },
     "execution_count": 11,
     "metadata": {},
     "output_type": "execute_result"
    }
   ],
   "source": [
    "ratings_pred_matrix.tail()"
   ]
  },
  {
   "cell_type": "code",
   "execution_count": 12,
   "metadata": {},
   "outputs": [
    {
     "data": {
      "text/html": [
       "<div>\n",
       "<style scoped>\n",
       "    .dataframe tbody tr th:only-of-type {\n",
       "        vertical-align: middle;\n",
       "    }\n",
       "\n",
       "    .dataframe tbody tr th {\n",
       "        vertical-align: top;\n",
       "    }\n",
       "\n",
       "    .dataframe thead th {\n",
       "        text-align: right;\n",
       "    }\n",
       "</style>\n",
       "<table border=\"1\" class=\"dataframe\">\n",
       "  <thead>\n",
       "    <tr style=\"text-align: right;\">\n",
       "      <th>title</th>\n",
       "      <th>'71 (2014)</th>\n",
       "      <th>'Hellboy': The Seeds of Creation (2004)</th>\n",
       "      <th>'Round Midnight (1986)</th>\n",
       "      <th>'Salem's Lot (2004)</th>\n",
       "      <th>'Til There Was You (1997)</th>\n",
       "      <th>'Tis the Season for Love (2015)</th>\n",
       "      <th>'burbs, The (1989)</th>\n",
       "      <th>'night Mother (1986)</th>\n",
       "      <th>(500) Days of Summer (2009)</th>\n",
       "      <th>*batteries not included (1987)</th>\n",
       "      <th>...</th>\n",
       "      <th>Zulu (2013)</th>\n",
       "      <th>[REC] (2007)</th>\n",
       "      <th>[REC]² (2009)</th>\n",
       "      <th>[REC]³ 3 Génesis (2012)</th>\n",
       "      <th>anohana: The Flower We Saw That Day - The Movie (2013)</th>\n",
       "      <th>eXistenZ (1999)</th>\n",
       "      <th>xXx (2002)</th>\n",
       "      <th>xXx: State of the Union (2005)</th>\n",
       "      <th>¡Three Amigos! (1986)</th>\n",
       "      <th>À nous la liberté (Freedom for Us) (1931)</th>\n",
       "    </tr>\n",
       "    <tr>\n",
       "      <th>userId</th>\n",
       "      <th></th>\n",
       "      <th></th>\n",
       "      <th></th>\n",
       "      <th></th>\n",
       "      <th></th>\n",
       "      <th></th>\n",
       "      <th></th>\n",
       "      <th></th>\n",
       "      <th></th>\n",
       "      <th></th>\n",
       "      <th></th>\n",
       "      <th></th>\n",
       "      <th></th>\n",
       "      <th></th>\n",
       "      <th></th>\n",
       "      <th></th>\n",
       "      <th></th>\n",
       "      <th></th>\n",
       "      <th></th>\n",
       "      <th></th>\n",
       "      <th></th>\n",
       "    </tr>\n",
       "  </thead>\n",
       "  <tbody>\n",
       "    <tr>\n",
       "      <th>606</th>\n",
       "      <td>NaN</td>\n",
       "      <td>NaN</td>\n",
       "      <td>NaN</td>\n",
       "      <td>NaN</td>\n",
       "      <td>NaN</td>\n",
       "      <td>NaN</td>\n",
       "      <td>NaN</td>\n",
       "      <td>NaN</td>\n",
       "      <td>NaN</td>\n",
       "      <td>NaN</td>\n",
       "      <td>...</td>\n",
       "      <td>NaN</td>\n",
       "      <td>NaN</td>\n",
       "      <td>NaN</td>\n",
       "      <td>NaN</td>\n",
       "      <td>NaN</td>\n",
       "      <td>NaN</td>\n",
       "      <td>NaN</td>\n",
       "      <td>NaN</td>\n",
       "      <td>NaN</td>\n",
       "      <td>NaN</td>\n",
       "    </tr>\n",
       "    <tr>\n",
       "      <th>607</th>\n",
       "      <td>NaN</td>\n",
       "      <td>NaN</td>\n",
       "      <td>NaN</td>\n",
       "      <td>NaN</td>\n",
       "      <td>NaN</td>\n",
       "      <td>NaN</td>\n",
       "      <td>NaN</td>\n",
       "      <td>NaN</td>\n",
       "      <td>NaN</td>\n",
       "      <td>NaN</td>\n",
       "      <td>...</td>\n",
       "      <td>NaN</td>\n",
       "      <td>NaN</td>\n",
       "      <td>NaN</td>\n",
       "      <td>NaN</td>\n",
       "      <td>NaN</td>\n",
       "      <td>NaN</td>\n",
       "      <td>NaN</td>\n",
       "      <td>NaN</td>\n",
       "      <td>NaN</td>\n",
       "      <td>NaN</td>\n",
       "    </tr>\n",
       "    <tr>\n",
       "      <th>608</th>\n",
       "      <td>NaN</td>\n",
       "      <td>NaN</td>\n",
       "      <td>NaN</td>\n",
       "      <td>NaN</td>\n",
       "      <td>NaN</td>\n",
       "      <td>NaN</td>\n",
       "      <td>NaN</td>\n",
       "      <td>NaN</td>\n",
       "      <td>NaN</td>\n",
       "      <td>NaN</td>\n",
       "      <td>...</td>\n",
       "      <td>NaN</td>\n",
       "      <td>NaN</td>\n",
       "      <td>NaN</td>\n",
       "      <td>NaN</td>\n",
       "      <td>NaN</td>\n",
       "      <td>4.5</td>\n",
       "      <td>3.5</td>\n",
       "      <td>NaN</td>\n",
       "      <td>NaN</td>\n",
       "      <td>NaN</td>\n",
       "    </tr>\n",
       "    <tr>\n",
       "      <th>609</th>\n",
       "      <td>NaN</td>\n",
       "      <td>NaN</td>\n",
       "      <td>NaN</td>\n",
       "      <td>NaN</td>\n",
       "      <td>NaN</td>\n",
       "      <td>NaN</td>\n",
       "      <td>NaN</td>\n",
       "      <td>NaN</td>\n",
       "      <td>NaN</td>\n",
       "      <td>NaN</td>\n",
       "      <td>...</td>\n",
       "      <td>NaN</td>\n",
       "      <td>NaN</td>\n",
       "      <td>NaN</td>\n",
       "      <td>NaN</td>\n",
       "      <td>NaN</td>\n",
       "      <td>NaN</td>\n",
       "      <td>NaN</td>\n",
       "      <td>NaN</td>\n",
       "      <td>NaN</td>\n",
       "      <td>NaN</td>\n",
       "    </tr>\n",
       "    <tr>\n",
       "      <th>610</th>\n",
       "      <td>4.0</td>\n",
       "      <td>NaN</td>\n",
       "      <td>NaN</td>\n",
       "      <td>NaN</td>\n",
       "      <td>NaN</td>\n",
       "      <td>NaN</td>\n",
       "      <td>NaN</td>\n",
       "      <td>NaN</td>\n",
       "      <td>3.5</td>\n",
       "      <td>NaN</td>\n",
       "      <td>...</td>\n",
       "      <td>NaN</td>\n",
       "      <td>4.0</td>\n",
       "      <td>3.5</td>\n",
       "      <td>3.0</td>\n",
       "      <td>NaN</td>\n",
       "      <td>NaN</td>\n",
       "      <td>2.0</td>\n",
       "      <td>1.5</td>\n",
       "      <td>NaN</td>\n",
       "      <td>NaN</td>\n",
       "    </tr>\n",
       "  </tbody>\n",
       "</table>\n",
       "<p>5 rows × 9719 columns</p>\n",
       "</div>"
      ],
      "text/plain": [
       "title   '71 (2014)  'Hellboy': The Seeds of Creation (2004)  \\\n",
       "userId                                                        \n",
       "606            NaN                                      NaN   \n",
       "607            NaN                                      NaN   \n",
       "608            NaN                                      NaN   \n",
       "609            NaN                                      NaN   \n",
       "610            4.0                                      NaN   \n",
       "\n",
       "title   'Round Midnight (1986)  'Salem's Lot (2004)  \\\n",
       "userId                                                \n",
       "606                        NaN                  NaN   \n",
       "607                        NaN                  NaN   \n",
       "608                        NaN                  NaN   \n",
       "609                        NaN                  NaN   \n",
       "610                        NaN                  NaN   \n",
       "\n",
       "title   'Til There Was You (1997)  'Tis the Season for Love (2015)  \\\n",
       "userId                                                               \n",
       "606                           NaN                              NaN   \n",
       "607                           NaN                              NaN   \n",
       "608                           NaN                              NaN   \n",
       "609                           NaN                              NaN   \n",
       "610                           NaN                              NaN   \n",
       "\n",
       "title   'burbs, The (1989)  'night Mother (1986)  (500) Days of Summer (2009)  \\\n",
       "userId                                                                          \n",
       "606                    NaN                   NaN                          NaN   \n",
       "607                    NaN                   NaN                          NaN   \n",
       "608                    NaN                   NaN                          NaN   \n",
       "609                    NaN                   NaN                          NaN   \n",
       "610                    NaN                   NaN                          3.5   \n",
       "\n",
       "title   *batteries not included (1987)  ...  Zulu (2013)  [REC] (2007)  \\\n",
       "userId                                  ...                              \n",
       "606                                NaN  ...          NaN           NaN   \n",
       "607                                NaN  ...          NaN           NaN   \n",
       "608                                NaN  ...          NaN           NaN   \n",
       "609                                NaN  ...          NaN           NaN   \n",
       "610                                NaN  ...          NaN           4.0   \n",
       "\n",
       "title   [REC]² (2009)  [REC]³ 3 Génesis (2012)  \\\n",
       "userId                                           \n",
       "606               NaN                      NaN   \n",
       "607               NaN                      NaN   \n",
       "608               NaN                      NaN   \n",
       "609               NaN                      NaN   \n",
       "610               3.5                      3.0   \n",
       "\n",
       "title   anohana: The Flower We Saw That Day - The Movie (2013)  \\\n",
       "userId                                                           \n",
       "606                                                   NaN        \n",
       "607                                                   NaN        \n",
       "608                                                   NaN        \n",
       "609                                                   NaN        \n",
       "610                                                   NaN        \n",
       "\n",
       "title   eXistenZ (1999)  xXx (2002)  xXx: State of the Union (2005)  \\\n",
       "userId                                                                \n",
       "606                 NaN         NaN                             NaN   \n",
       "607                 NaN         NaN                             NaN   \n",
       "608                 4.5         3.5                             NaN   \n",
       "609                 NaN         NaN                             NaN   \n",
       "610                 NaN         2.0                             1.5   \n",
       "\n",
       "title   ¡Three Amigos! (1986)  À nous la liberté (Freedom for Us) (1931)  \n",
       "userId                                                                    \n",
       "606                       NaN                                        NaN  \n",
       "607                       NaN                                        NaN  \n",
       "608                       NaN                                        NaN  \n",
       "609                       NaN                                        NaN  \n",
       "610                       NaN                                        NaN  \n",
       "\n",
       "[5 rows x 9719 columns]"
      ]
     },
     "execution_count": 12,
     "metadata": {},
     "output_type": "execute_result"
    }
   ],
   "source": [
    "ratings_matrix.tail()"
   ]
  },
  {
   "cell_type": "code",
   "execution_count": 13,
   "metadata": {},
   "outputs": [],
   "source": [
    "def get_unseen_movies(ratings_matrix, userId):\n",
    "    # userId로 입력받은 사용자의 모든 영화정보 추출하여 Series로 반환함. \n",
    "    # 반환된 user_rating 은 영화명(title)을 index로 가지는 Series 객체임. \n",
    "    user_rating = ratings_matrix.loc[userId,:]\n",
    "    \n",
    "    # user_rating이 0보다 크면 기존에 관람한 영화임. 대상 index를 추출하여 list 객체로 만듬\n",
    "    already_seen = user_rating[ user_rating > 0].index.tolist()\n",
    "    \n",
    "    # 모든 영화명을 list 객체로 만듬. \n",
    "    movies_list = ratings_matrix.columns.tolist()\n",
    "    \n",
    "    # list comprehension으로 already_seen에 해당하는 movie는 movies_list에서 제외함. \n",
    "    unseen_list = [ movie for movie in movies_list if movie not in already_seen]\n",
    "    \n",
    "    return unseen_list"
   ]
  },
  {
   "cell_type": "code",
   "execution_count": 14,
   "metadata": {},
   "outputs": [],
   "source": [
    "def recomm_movie_by_userid(pred_df, userId, unseen_list, top_n=10):\n",
    "    # 예측 평점 DataFrame에서 사용자id index와 unseen_list로 들어온 영화명 컬럼을 추출하여\n",
    "    # 가장 예측 평점이 높은 순으로 정렬함. \n",
    "    recomm_movies = pred_df.loc[userId, unseen_list].sort_values(ascending=False)[:top_n]\n",
    "    return recomm_movies"
   ]
  },
  {
   "cell_type": "code",
   "execution_count": 15,
   "metadata": {},
   "outputs": [
    {
     "data": {
      "text/html": [
       "<div>\n",
       "<style scoped>\n",
       "    .dataframe tbody tr th:only-of-type {\n",
       "        vertical-align: middle;\n",
       "    }\n",
       "\n",
       "    .dataframe tbody tr th {\n",
       "        vertical-align: top;\n",
       "    }\n",
       "\n",
       "    .dataframe thead th {\n",
       "        text-align: right;\n",
       "    }\n",
       "</style>\n",
       "<table border=\"1\" class=\"dataframe\">\n",
       "  <thead>\n",
       "    <tr style=\"text-align: right;\">\n",
       "      <th></th>\n",
       "      <th>pred_score</th>\n",
       "    </tr>\n",
       "    <tr>\n",
       "      <th>title</th>\n",
       "      <th></th>\n",
       "    </tr>\n",
       "  </thead>\n",
       "  <tbody>\n",
       "    <tr>\n",
       "      <th>Rear Window (1954)</th>\n",
       "      <td>5.704612</td>\n",
       "    </tr>\n",
       "    <tr>\n",
       "      <th>South Park: Bigger, Longer and Uncut (1999)</th>\n",
       "      <td>5.451100</td>\n",
       "    </tr>\n",
       "    <tr>\n",
       "      <th>Rounders (1998)</th>\n",
       "      <td>5.298393</td>\n",
       "    </tr>\n",
       "    <tr>\n",
       "      <th>Blade Runner (1982)</th>\n",
       "      <td>5.244951</td>\n",
       "    </tr>\n",
       "    <tr>\n",
       "      <th>Roger &amp; Me (1989)</th>\n",
       "      <td>5.191962</td>\n",
       "    </tr>\n",
       "    <tr>\n",
       "      <th>Gattaca (1997)</th>\n",
       "      <td>5.183179</td>\n",
       "    </tr>\n",
       "    <tr>\n",
       "      <th>Ben-Hur (1959)</th>\n",
       "      <td>5.130463</td>\n",
       "    </tr>\n",
       "    <tr>\n",
       "      <th>Rosencrantz and Guildenstern Are Dead (1990)</th>\n",
       "      <td>5.087375</td>\n",
       "    </tr>\n",
       "    <tr>\n",
       "      <th>Big Lebowski, The (1998)</th>\n",
       "      <td>5.038690</td>\n",
       "    </tr>\n",
       "    <tr>\n",
       "      <th>Star Wars: Episode V - The Empire Strikes Back (1980)</th>\n",
       "      <td>4.989601</td>\n",
       "    </tr>\n",
       "  </tbody>\n",
       "</table>\n",
       "</div>"
      ],
      "text/plain": [
       "                                                    pred_score\n",
       "title                                                         \n",
       "Rear Window (1954)                                    5.704612\n",
       "South Park: Bigger, Longer and Uncut (1999)           5.451100\n",
       "Rounders (1998)                                       5.298393\n",
       "Blade Runner (1982)                                   5.244951\n",
       "Roger & Me (1989)                                     5.191962\n",
       "Gattaca (1997)                                        5.183179\n",
       "Ben-Hur (1959)                                        5.130463\n",
       "Rosencrantz and Guildenstern Are Dead (1990)          5.087375\n",
       "Big Lebowski, The (1998)                              5.038690\n",
       "Star Wars: Episode V - The Empire Strikes Back ...    4.989601"
      ]
     },
     "execution_count": 15,
     "metadata": {},
     "output_type": "execute_result"
    }
   ],
   "source": [
    "# 사용자가 관람하지 않는 영화명 추출   \n",
    "unseen_list = get_unseen_movies(ratings_matrix, 9)\n",
    "\n",
    "# 잠재요인 기반 협업 필터링으로 영화 추천 \n",
    "recomm_movies = recomm_movie_by_userid(ratings_pred_matrix, 9, unseen_list, top_n=10)\n",
    "\n",
    "# 평점 데이타를 DataFrame으로 생성. \n",
    "recomm_movies = pd.DataFrame(data=recomm_movies.values,index=recomm_movies.index,columns=['pred_score'])\n",
    "recomm_movies"
   ]
  },
  {
   "cell_type": "code",
   "execution_count": 66,
   "metadata": {},
   "outputs": [
    {
     "data": {
      "text/plain": [
       "title\n",
       "Adaptation (2002)                                                                 5.0\n",
       "Austin Powers in Goldmember (2002)                                                5.0\n",
       "Back to the Future (1985)                                                         5.0\n",
       "Citizen Kane (1941)                                                               5.0\n",
       "Lord of the Rings: The Fellowship of the Ring, The (2001)                         5.0\n",
       "Lord of the Rings: The Two Towers, The (2002)                                     5.0\n",
       "Producers, The (1968)                                                             5.0\n",
       "Raiders of the Lost Ark (Indiana Jones and the Raiders of the Lost Ark) (1981)    5.0\n",
       "Name: 9, dtype: float64"
      ]
     },
     "execution_count": 66,
     "metadata": {},
     "output_type": "execute_result"
    }
   ],
   "source": [
    "ratings_matrix.loc[9,:][ratings_matrix.loc[9,:] == 5.].sort_values(ascending = False)"
   ]
  },
  {
   "cell_type": "code",
   "execution_count": 67,
   "metadata": {},
   "outputs": [
    {
     "data": {
      "text/plain": [
       "title\n",
       "Roger & Me (1989)                                                                 5.191962\n",
       "Gattaca (1997)                                                                    5.183179\n",
       "Ben-Hur (1959)                                                                    5.130463\n",
       "Rosencrantz and Guildenstern Are Dead (1990)                                      5.087375\n",
       "Raiders of the Lost Ark (Indiana Jones and the Raiders of the Lost Ark) (1981)    5.054309\n",
       "Lord of the Rings: The Fellowship of the Ring, The (2001)                         5.052807\n",
       "Big Lebowski, The (1998)                                                          5.038690\n",
       "Star Wars: Episode V - The Empire Strikes Back (1980)                             4.989601\n",
       "Adaptation (2002)                                                                 4.988033\n",
       "Citizen Kane (1941)                                                               4.986151\n",
       "Producers, The (1968)                                                             4.952784\n",
       "Indiana Jones and the Last Crusade (1989)                                         4.928461\n",
       "Yojimbo (1961)                                                                    4.897997\n",
       "Superbad (2007)                                                                   4.889787\n",
       "Austin Powers in Goldmember (2002)                                                4.884235\n",
       "Lord of the Rings: The Two Towers, The (2002)                                     4.872324\n",
       "Back to the Future (1985)                                                         4.867128\n",
       "Old Boy (2003)                                                                    4.860964\n",
       "Gosford Park (2001)                                                               4.843921\n",
       "Searching for Bobby Fischer (1993)                                                4.824231\n",
       "Lord of the Rings: The Return of the King, The (2003)                             4.814167\n",
       "Name: 9, dtype: float64"
      ]
     },
     "execution_count": 67,
     "metadata": {},
     "output_type": "execute_result"
    }
   ],
   "source": [
    "ratings_pred_matrix.loc[9,:][(ratings_pred_matrix.loc[9,:] < 5.2) & (ratings_pred_matrix.loc[9,:] > 4.8)].sort_values(ascending = False)"
   ]
  },
  {
   "cell_type": "code",
   "execution_count": null,
   "metadata": {},
   "outputs": [],
   "source": [
    "# loc <-> iloc 주의"
   ]
  },
  {
   "cell_type": "code",
   "execution_count": 60,
   "metadata": {},
   "outputs": [
    {
     "data": {
      "text/plain": [
       "title\n",
       "'71 (2014)                                   3.170119\n",
       "'Hellboy': The Seeds of Creation (2004)      3.657992\n",
       "'Round Midnight (1986)                       3.308707\n",
       "'Salem's Lot (2004)                          4.166521\n",
       "'Til There Was You (1997)                    4.311890\n",
       "                                               ...   \n",
       "eXistenZ (1999)                              4.232789\n",
       "xXx (2002)                                   2.911602\n",
       "xXx: State of the Union (2005)               1.634576\n",
       "¡Three Amigos! (1986)                        4.135735\n",
       "À nous la liberté (Freedom for Us) (1931)    0.725684\n",
       "Name: 2, Length: 9719, dtype: float64"
      ]
     },
     "execution_count": 60,
     "metadata": {},
     "output_type": "execute_result"
    }
   ],
   "source": [
    "ratings_pred_matrix.iloc[1] # 숫자 기준 0 ~"
   ]
  },
  {
   "cell_type": "code",
   "execution_count": 61,
   "metadata": {},
   "outputs": [
    {
     "data": {
      "text/plain": [
       "title\n",
       "'71 (2014)                                   3.055084\n",
       "'Hellboy': The Seeds of Creation (2004)      4.092018\n",
       "'Round Midnight (1986)                       3.564130\n",
       "'Salem's Lot (2004)                          4.502167\n",
       "'Til There Was You (1997)                    3.981215\n",
       "                                               ...   \n",
       "eXistenZ (1999)                              3.475076\n",
       "xXx (2002)                                   3.253458\n",
       "xXx: State of the Union (2005)               2.161087\n",
       "¡Three Amigos! (1986)                        4.010495\n",
       "À nous la liberté (Freedom for Us) (1931)    0.859474\n",
       "Name: 1, Length: 9719, dtype: float64"
      ]
     },
     "execution_count": 61,
     "metadata": {},
     "output_type": "execute_result"
    }
   ],
   "source": [
    "ratings_pred_matrix.loc[1] # 인덱스 기준"
   ]
  },
  {
   "cell_type": "code",
   "execution_count": 57,
   "metadata": {},
   "outputs": [
    {
     "data": {
      "text/html": [
       "<div>\n",
       "<style scoped>\n",
       "    .dataframe tbody tr th:only-of-type {\n",
       "        vertical-align: middle;\n",
       "    }\n",
       "\n",
       "    .dataframe tbody tr th {\n",
       "        vertical-align: top;\n",
       "    }\n",
       "\n",
       "    .dataframe thead th {\n",
       "        text-align: right;\n",
       "    }\n",
       "</style>\n",
       "<table border=\"1\" class=\"dataframe\">\n",
       "  <thead>\n",
       "    <tr style=\"text-align: right;\">\n",
       "      <th>title</th>\n",
       "      <th>'71 (2014)</th>\n",
       "      <th>'Hellboy': The Seeds of Creation (2004)</th>\n",
       "      <th>'Round Midnight (1986)</th>\n",
       "      <th>'Salem's Lot (2004)</th>\n",
       "      <th>'Til There Was You (1997)</th>\n",
       "      <th>'Tis the Season for Love (2015)</th>\n",
       "      <th>'burbs, The (1989)</th>\n",
       "      <th>'night Mother (1986)</th>\n",
       "      <th>(500) Days of Summer (2009)</th>\n",
       "      <th>*batteries not included (1987)</th>\n",
       "      <th>...</th>\n",
       "      <th>Zulu (2013)</th>\n",
       "      <th>[REC] (2007)</th>\n",
       "      <th>[REC]² (2009)</th>\n",
       "      <th>[REC]³ 3 Génesis (2012)</th>\n",
       "      <th>anohana: The Flower We Saw That Day - The Movie (2013)</th>\n",
       "      <th>eXistenZ (1999)</th>\n",
       "      <th>xXx (2002)</th>\n",
       "      <th>xXx: State of the Union (2005)</th>\n",
       "      <th>¡Three Amigos! (1986)</th>\n",
       "      <th>À nous la liberté (Freedom for Us) (1931)</th>\n",
       "    </tr>\n",
       "    <tr>\n",
       "      <th>userId</th>\n",
       "      <th></th>\n",
       "      <th></th>\n",
       "      <th></th>\n",
       "      <th></th>\n",
       "      <th></th>\n",
       "      <th></th>\n",
       "      <th></th>\n",
       "      <th></th>\n",
       "      <th></th>\n",
       "      <th></th>\n",
       "      <th></th>\n",
       "      <th></th>\n",
       "      <th></th>\n",
       "      <th></th>\n",
       "      <th></th>\n",
       "      <th></th>\n",
       "      <th></th>\n",
       "      <th></th>\n",
       "      <th></th>\n",
       "      <th></th>\n",
       "      <th></th>\n",
       "    </tr>\n",
       "  </thead>\n",
       "  <tbody>\n",
       "    <tr>\n",
       "      <th>1</th>\n",
       "      <td>3.055084</td>\n",
       "      <td>4.092018</td>\n",
       "      <td>3.564130</td>\n",
       "      <td>4.502167</td>\n",
       "      <td>3.981215</td>\n",
       "      <td>1.271694</td>\n",
       "      <td>3.603274</td>\n",
       "      <td>2.333266</td>\n",
       "      <td>5.091749</td>\n",
       "      <td>3.972454</td>\n",
       "      <td>...</td>\n",
       "      <td>1.402608</td>\n",
       "      <td>4.208382</td>\n",
       "      <td>3.705957</td>\n",
       "      <td>2.720514</td>\n",
       "      <td>2.787331</td>\n",
       "      <td>3.475076</td>\n",
       "      <td>3.253458</td>\n",
       "      <td>2.161087</td>\n",
       "      <td>4.010495</td>\n",
       "      <td>0.859474</td>\n",
       "    </tr>\n",
       "    <tr>\n",
       "      <th>2</th>\n",
       "      <td>3.170119</td>\n",
       "      <td>3.657992</td>\n",
       "      <td>3.308707</td>\n",
       "      <td>4.166521</td>\n",
       "      <td>4.311890</td>\n",
       "      <td>1.275469</td>\n",
       "      <td>4.237972</td>\n",
       "      <td>1.900366</td>\n",
       "      <td>3.392859</td>\n",
       "      <td>3.647421</td>\n",
       "      <td>...</td>\n",
       "      <td>0.973811</td>\n",
       "      <td>3.528264</td>\n",
       "      <td>3.361532</td>\n",
       "      <td>2.672535</td>\n",
       "      <td>2.404456</td>\n",
       "      <td>4.232789</td>\n",
       "      <td>2.911602</td>\n",
       "      <td>1.634576</td>\n",
       "      <td>4.135735</td>\n",
       "      <td>0.725684</td>\n",
       "    </tr>\n",
       "    <tr>\n",
       "      <th>3</th>\n",
       "      <td>2.307073</td>\n",
       "      <td>1.658853</td>\n",
       "      <td>1.443538</td>\n",
       "      <td>2.208859</td>\n",
       "      <td>2.229486</td>\n",
       "      <td>0.780760</td>\n",
       "      <td>1.997043</td>\n",
       "      <td>0.924908</td>\n",
       "      <td>2.970700</td>\n",
       "      <td>2.551446</td>\n",
       "      <td>...</td>\n",
       "      <td>0.520354</td>\n",
       "      <td>1.709494</td>\n",
       "      <td>2.281596</td>\n",
       "      <td>1.782833</td>\n",
       "      <td>1.635173</td>\n",
       "      <td>1.323276</td>\n",
       "      <td>2.887580</td>\n",
       "      <td>1.042618</td>\n",
       "      <td>2.293890</td>\n",
       "      <td>0.396941</td>\n",
       "    </tr>\n",
       "    <tr>\n",
       "      <th>4</th>\n",
       "      <td>2.628629</td>\n",
       "      <td>3.035550</td>\n",
       "      <td>2.575746</td>\n",
       "      <td>3.706912</td>\n",
       "      <td>3.430636</td>\n",
       "      <td>0.706441</td>\n",
       "      <td>3.330280</td>\n",
       "      <td>1.978826</td>\n",
       "      <td>4.560368</td>\n",
       "      <td>2.775710</td>\n",
       "      <td>...</td>\n",
       "      <td>1.046116</td>\n",
       "      <td>2.912178</td>\n",
       "      <td>2.479592</td>\n",
       "      <td>2.231915</td>\n",
       "      <td>1.888629</td>\n",
       "      <td>2.211364</td>\n",
       "      <td>0.645603</td>\n",
       "      <td>1.585734</td>\n",
       "      <td>3.542892</td>\n",
       "      <td>0.591540</td>\n",
       "    </tr>\n",
       "    <tr>\n",
       "      <th>5</th>\n",
       "      <td>2.116148</td>\n",
       "      <td>3.084761</td>\n",
       "      <td>2.747679</td>\n",
       "      <td>3.783490</td>\n",
       "      <td>3.946990</td>\n",
       "      <td>0.883259</td>\n",
       "      <td>1.958953</td>\n",
       "      <td>1.757317</td>\n",
       "      <td>2.054312</td>\n",
       "      <td>2.775258</td>\n",
       "      <td>...</td>\n",
       "      <td>0.956159</td>\n",
       "      <td>3.893975</td>\n",
       "      <td>2.717024</td>\n",
       "      <td>2.002443</td>\n",
       "      <td>2.053337</td>\n",
       "      <td>3.983639</td>\n",
       "      <td>2.099626</td>\n",
       "      <td>1.423718</td>\n",
       "      <td>2.490428</td>\n",
       "      <td>0.531403</td>\n",
       "    </tr>\n",
       "  </tbody>\n",
       "</table>\n",
       "<p>5 rows × 9719 columns</p>\n",
       "</div>"
      ],
      "text/plain": [
       "title   '71 (2014)  'Hellboy': The Seeds of Creation (2004)  \\\n",
       "userId                                                        \n",
       "1         3.055084                                 4.092018   \n",
       "2         3.170119                                 3.657992   \n",
       "3         2.307073                                 1.658853   \n",
       "4         2.628629                                 3.035550   \n",
       "5         2.116148                                 3.084761   \n",
       "\n",
       "title   'Round Midnight (1986)  'Salem's Lot (2004)  \\\n",
       "userId                                                \n",
       "1                     3.564130             4.502167   \n",
       "2                     3.308707             4.166521   \n",
       "3                     1.443538             2.208859   \n",
       "4                     2.575746             3.706912   \n",
       "5                     2.747679             3.783490   \n",
       "\n",
       "title   'Til There Was You (1997)  'Tis the Season for Love (2015)  \\\n",
       "userId                                                               \n",
       "1                        3.981215                         1.271694   \n",
       "2                        4.311890                         1.275469   \n",
       "3                        2.229486                         0.780760   \n",
       "4                        3.430636                         0.706441   \n",
       "5                        3.946990                         0.883259   \n",
       "\n",
       "title   'burbs, The (1989)  'night Mother (1986)  (500) Days of Summer (2009)  \\\n",
       "userId                                                                          \n",
       "1                 3.603274              2.333266                     5.091749   \n",
       "2                 4.237972              1.900366                     3.392859   \n",
       "3                 1.997043              0.924908                     2.970700   \n",
       "4                 3.330280              1.978826                     4.560368   \n",
       "5                 1.958953              1.757317                     2.054312   \n",
       "\n",
       "title   *batteries not included (1987)  ...  Zulu (2013)  [REC] (2007)  \\\n",
       "userId                                  ...                              \n",
       "1                             3.972454  ...     1.402608      4.208382   \n",
       "2                             3.647421  ...     0.973811      3.528264   \n",
       "3                             2.551446  ...     0.520354      1.709494   \n",
       "4                             2.775710  ...     1.046116      2.912178   \n",
       "5                             2.775258  ...     0.956159      3.893975   \n",
       "\n",
       "title   [REC]² (2009)  [REC]³ 3 Génesis (2012)  \\\n",
       "userId                                           \n",
       "1            3.705957                 2.720514   \n",
       "2            3.361532                 2.672535   \n",
       "3            2.281596                 1.782833   \n",
       "4            2.479592                 2.231915   \n",
       "5            2.717024                 2.002443   \n",
       "\n",
       "title   anohana: The Flower We Saw That Day - The Movie (2013)  \\\n",
       "userId                                                           \n",
       "1                                                2.787331        \n",
       "2                                                2.404456        \n",
       "3                                                1.635173        \n",
       "4                                                1.888629        \n",
       "5                                                2.053337        \n",
       "\n",
       "title   eXistenZ (1999)  xXx (2002)  xXx: State of the Union (2005)  \\\n",
       "userId                                                                \n",
       "1              3.475076    3.253458                        2.161087   \n",
       "2              4.232789    2.911602                        1.634576   \n",
       "3              1.323276    2.887580                        1.042618   \n",
       "4              2.211364    0.645603                        1.585734   \n",
       "5              3.983639    2.099626                        1.423718   \n",
       "\n",
       "title   ¡Three Amigos! (1986)  À nous la liberté (Freedom for Us) (1931)  \n",
       "userId                                                                    \n",
       "1                    4.010495                                   0.859474  \n",
       "2                    4.135735                                   0.725684  \n",
       "3                    2.293890                                   0.396941  \n",
       "4                    3.542892                                   0.591540  \n",
       "5                    2.490428                                   0.531403  \n",
       "\n",
       "[5 rows x 9719 columns]"
      ]
     },
     "execution_count": 57,
     "metadata": {},
     "output_type": "execute_result"
    }
   ],
   "source": [
    "ratings_pred_matrix.head()"
   ]
  }
 ],
 "metadata": {
  "kernelspec": {
   "display_name": "Python 3",
   "language": "python",
   "name": "python3"
  },
  "language_info": {
   "codemirror_mode": {
    "name": "ipython",
    "version": 3
   },
   "file_extension": ".py",
   "mimetype": "text/x-python",
   "name": "python",
   "nbconvert_exporter": "python",
   "pygments_lexer": "ipython3",
   "version": "3.8.8"
  }
 },
 "nbformat": 4,
 "nbformat_minor": 4
}
