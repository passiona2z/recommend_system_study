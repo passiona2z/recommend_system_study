{
 "cells": [
  {
   "cell_type": "code",
   "execution_count": 1,
   "metadata": {
    "colab": {
     "base_uri": "https://localhost:8080/"
    },
    "executionInfo": {
     "elapsed": 7691,
     "status": "ok",
     "timestamp": 1628220965454,
     "user": {
      "displayName": "김유빈",
      "photoUrl": "",
      "userId": "11244659521636006499"
     },
     "user_tz": -540
    },
    "id": "wo3qVMZtzX4R",
    "outputId": "645c5d20-9fa9-4b29-adaa-307011ea4eca"
   },
   "outputs": [],
   "source": [
    "import numpy as np\n",
    "import pandas as pd\n",
    "\n",
    "from scipy.spatial.distance import pdist\n",
    "from sklearn.feature_extraction.text import TfidfVectorizer, CountVectorizer\n",
    "from sklearn.metrics.pairwise import cosine_similarity, euclidean_distances, manhattan_distances\n",
    "import os"
   ]
  },
  {
   "cell_type": "code",
   "execution_count": 2,
   "metadata": {
    "executionInfo": {
     "elapsed": 4,
     "status": "ok",
     "timestamp": 1628220965455,
     "user": {
      "displayName": "김유빈",
      "photoUrl": "",
      "userId": "11244659521636006499"
     },
     "user_tz": -540
    },
    "id": "gR1Ou-cz7M35"
   },
   "outputs": [],
   "source": [
    "DOC_SIZE = 2000  # choose the size of the data here (너무 크면 시간이 오래 걸릴 수도 있음!)\n",
    "TOP_N = 30"
   ]
  },
  {
   "cell_type": "code",
   "execution_count": 5,
   "metadata": {},
   "outputs": [
    {
     "name": "stdout",
     "output_type": "stream",
     "text": [
      "(4803, 20)\n"
     ]
    },
    {
     "data": {
      "text/html": [
       "<div>\n",
       "<style scoped>\n",
       "    .dataframe tbody tr th:only-of-type {\n",
       "        vertical-align: middle;\n",
       "    }\n",
       "\n",
       "    .dataframe tbody tr th {\n",
       "        vertical-align: top;\n",
       "    }\n",
       "\n",
       "    .dataframe thead th {\n",
       "        text-align: right;\n",
       "    }\n",
       "</style>\n",
       "<table border=\"1\" class=\"dataframe\">\n",
       "  <thead>\n",
       "    <tr style=\"text-align: right;\">\n",
       "      <th></th>\n",
       "      <th>budget</th>\n",
       "      <th>genres</th>\n",
       "      <th>homepage</th>\n",
       "      <th>id</th>\n",
       "      <th>keywords</th>\n",
       "      <th>original_language</th>\n",
       "      <th>original_title</th>\n",
       "      <th>overview</th>\n",
       "      <th>popularity</th>\n",
       "      <th>production_companies</th>\n",
       "      <th>production_countries</th>\n",
       "      <th>release_date</th>\n",
       "      <th>revenue</th>\n",
       "      <th>runtime</th>\n",
       "      <th>spoken_languages</th>\n",
       "      <th>status</th>\n",
       "      <th>tagline</th>\n",
       "      <th>title</th>\n",
       "      <th>vote_average</th>\n",
       "      <th>vote_count</th>\n",
       "    </tr>\n",
       "  </thead>\n",
       "  <tbody>\n",
       "    <tr>\n",
       "      <th>0</th>\n",
       "      <td>237000000</td>\n",
       "      <td>[{\"id\": 28, \"name\": \"Action\"}, {\"id\": 12, \"nam...</td>\n",
       "      <td>http://www.avatarmovie.com/</td>\n",
       "      <td>19995</td>\n",
       "      <td>[{\"id\": 1463, \"name\": \"culture clash\"}, {\"id\":...</td>\n",
       "      <td>en</td>\n",
       "      <td>Avatar</td>\n",
       "      <td>In the 22nd century, a paraplegic Marine is di...</td>\n",
       "      <td>150.437577</td>\n",
       "      <td>[{\"name\": \"Ingenious Film Partners\", \"id\": 289...</td>\n",
       "      <td>[{\"iso_3166_1\": \"US\", \"name\": \"United States o...</td>\n",
       "      <td>2009-12-10</td>\n",
       "      <td>2787965087</td>\n",
       "      <td>162.0</td>\n",
       "      <td>[{\"iso_639_1\": \"en\", \"name\": \"English\"}, {\"iso...</td>\n",
       "      <td>Released</td>\n",
       "      <td>Enter the World of Pandora.</td>\n",
       "      <td>Avatar</td>\n",
       "      <td>7.2</td>\n",
       "      <td>11800</td>\n",
       "    </tr>\n",
       "    <tr>\n",
       "      <th>1</th>\n",
       "      <td>300000000</td>\n",
       "      <td>[{\"id\": 12, \"name\": \"Adventure\"}, {\"id\": 14, \"...</td>\n",
       "      <td>http://disney.go.com/disneypictures/pirates/</td>\n",
       "      <td>285</td>\n",
       "      <td>[{\"id\": 270, \"name\": \"ocean\"}, {\"id\": 726, \"na...</td>\n",
       "      <td>en</td>\n",
       "      <td>Pirates of the Caribbean: At World's End</td>\n",
       "      <td>Captain Barbossa, long believed to be dead, ha...</td>\n",
       "      <td>139.082615</td>\n",
       "      <td>[{\"name\": \"Walt Disney Pictures\", \"id\": 2}, {\"...</td>\n",
       "      <td>[{\"iso_3166_1\": \"US\", \"name\": \"United States o...</td>\n",
       "      <td>2007-05-19</td>\n",
       "      <td>961000000</td>\n",
       "      <td>169.0</td>\n",
       "      <td>[{\"iso_639_1\": \"en\", \"name\": \"English\"}]</td>\n",
       "      <td>Released</td>\n",
       "      <td>At the end of the world, the adventure begins.</td>\n",
       "      <td>Pirates of the Caribbean: At World's End</td>\n",
       "      <td>6.9</td>\n",
       "      <td>4500</td>\n",
       "    </tr>\n",
       "    <tr>\n",
       "      <th>2</th>\n",
       "      <td>245000000</td>\n",
       "      <td>[{\"id\": 28, \"name\": \"Action\"}, {\"id\": 12, \"nam...</td>\n",
       "      <td>http://www.sonypictures.com/movies/spectre/</td>\n",
       "      <td>206647</td>\n",
       "      <td>[{\"id\": 470, \"name\": \"spy\"}, {\"id\": 818, \"name...</td>\n",
       "      <td>en</td>\n",
       "      <td>Spectre</td>\n",
       "      <td>A cryptic message from Bond’s past sends him o...</td>\n",
       "      <td>107.376788</td>\n",
       "      <td>[{\"name\": \"Columbia Pictures\", \"id\": 5}, {\"nam...</td>\n",
       "      <td>[{\"iso_3166_1\": \"GB\", \"name\": \"United Kingdom\"...</td>\n",
       "      <td>2015-10-26</td>\n",
       "      <td>880674609</td>\n",
       "      <td>148.0</td>\n",
       "      <td>[{\"iso_639_1\": \"fr\", \"name\": \"Fran\\u00e7ais\"},...</td>\n",
       "      <td>Released</td>\n",
       "      <td>A Plan No One Escapes</td>\n",
       "      <td>Spectre</td>\n",
       "      <td>6.3</td>\n",
       "      <td>4466</td>\n",
       "    </tr>\n",
       "  </tbody>\n",
       "</table>\n",
       "</div>"
      ],
      "text/plain": [
       "      budget                                             genres  \\\n",
       "0  237000000  [{\"id\": 28, \"name\": \"Action\"}, {\"id\": 12, \"nam...   \n",
       "1  300000000  [{\"id\": 12, \"name\": \"Adventure\"}, {\"id\": 14, \"...   \n",
       "2  245000000  [{\"id\": 28, \"name\": \"Action\"}, {\"id\": 12, \"nam...   \n",
       "\n",
       "                                       homepage      id  \\\n",
       "0                   http://www.avatarmovie.com/   19995   \n",
       "1  http://disney.go.com/disneypictures/pirates/     285   \n",
       "2   http://www.sonypictures.com/movies/spectre/  206647   \n",
       "\n",
       "                                            keywords original_language  \\\n",
       "0  [{\"id\": 1463, \"name\": \"culture clash\"}, {\"id\":...                en   \n",
       "1  [{\"id\": 270, \"name\": \"ocean\"}, {\"id\": 726, \"na...                en   \n",
       "2  [{\"id\": 470, \"name\": \"spy\"}, {\"id\": 818, \"name...                en   \n",
       "\n",
       "                             original_title  \\\n",
       "0                                    Avatar   \n",
       "1  Pirates of the Caribbean: At World's End   \n",
       "2                                   Spectre   \n",
       "\n",
       "                                            overview  popularity  \\\n",
       "0  In the 22nd century, a paraplegic Marine is di...  150.437577   \n",
       "1  Captain Barbossa, long believed to be dead, ha...  139.082615   \n",
       "2  A cryptic message from Bond’s past sends him o...  107.376788   \n",
       "\n",
       "                                production_companies  \\\n",
       "0  [{\"name\": \"Ingenious Film Partners\", \"id\": 289...   \n",
       "1  [{\"name\": \"Walt Disney Pictures\", \"id\": 2}, {\"...   \n",
       "2  [{\"name\": \"Columbia Pictures\", \"id\": 5}, {\"nam...   \n",
       "\n",
       "                                production_countries release_date     revenue  \\\n",
       "0  [{\"iso_3166_1\": \"US\", \"name\": \"United States o...   2009-12-10  2787965087   \n",
       "1  [{\"iso_3166_1\": \"US\", \"name\": \"United States o...   2007-05-19   961000000   \n",
       "2  [{\"iso_3166_1\": \"GB\", \"name\": \"United Kingdom\"...   2015-10-26   880674609   \n",
       "\n",
       "   runtime                                   spoken_languages    status  \\\n",
       "0    162.0  [{\"iso_639_1\": \"en\", \"name\": \"English\"}, {\"iso...  Released   \n",
       "1    169.0           [{\"iso_639_1\": \"en\", \"name\": \"English\"}]  Released   \n",
       "2    148.0  [{\"iso_639_1\": \"fr\", \"name\": \"Fran\\u00e7ais\"},...  Released   \n",
       "\n",
       "                                          tagline  \\\n",
       "0                     Enter the World of Pandora.   \n",
       "1  At the end of the world, the adventure begins.   \n",
       "2                           A Plan No One Escapes   \n",
       "\n",
       "                                      title  vote_average  vote_count  \n",
       "0                                    Avatar           7.2       11800  \n",
       "1  Pirates of the Caribbean: At World's End           6.9        4500  \n",
       "2                                   Spectre           6.3        4466  "
      ]
     },
     "execution_count": 5,
     "metadata": {},
     "output_type": "execute_result"
    }
   ],
   "source": [
    "movies_df = pd.read_csv('../data/tmdb_5000_movies.csv')\n",
    "print(movies.shape)\n",
    "movies_df.head(3)"
   ]
  },
  {
   "cell_type": "code",
   "execution_count": 73,
   "metadata": {
    "id": "4zQ26p4V1pwc"
   },
   "outputs": [
    {
     "data": {
      "text/plain": [
       "(4800, 21)"
      ]
     },
     "execution_count": 73,
     "metadata": {},
     "output_type": "execute_result"
    }
   ],
   "source": [
    "movies_df[movies_df['overview'].isnull()]\n",
    "# # we don't want any null values. So replace them with an empty string.\n",
    "movies_df = movies_df.dropna(subset = ['overview'])\n",
    "movies_df  = movies_df.reset_index(drop=True)\n",
    "movies_df.shape"
   ]
  },
  {
   "cell_type": "code",
   "execution_count": 14,
   "metadata": {},
   "outputs": [
    {
     "name": "stdout",
     "output_type": "stream",
     "text": [
      "<class 'pandas.core.frame.DataFrame'>\n",
      "Int64Index: 4800 entries, 0 to 4802\n",
      "Data columns (total 20 columns):\n",
      " #   Column                Non-Null Count  Dtype  \n",
      "---  ------                --------------  -----  \n",
      " 0   budget                4800 non-null   int64  \n",
      " 1   genres                4800 non-null   object \n",
      " 2   homepage              1712 non-null   object \n",
      " 3   id                    4800 non-null   int64  \n",
      " 4   keywords              4800 non-null   object \n",
      " 5   original_language     4800 non-null   object \n",
      " 6   original_title        4800 non-null   object \n",
      " 7   overview              4800 non-null   object \n",
      " 8   popularity            4800 non-null   float64\n",
      " 9   production_companies  4800 non-null   object \n",
      " 10  production_countries  4800 non-null   object \n",
      " 11  release_date          4799 non-null   object \n",
      " 12  revenue               4800 non-null   int64  \n",
      " 13  runtime               4800 non-null   float64\n",
      " 14  spoken_languages      4800 non-null   object \n",
      " 15  status                4800 non-null   object \n",
      " 16  tagline               3959 non-null   object \n",
      " 17  title                 4800 non-null   object \n",
      " 18  vote_average          4800 non-null   float64\n",
      " 19  vote_count            4800 non-null   int64  \n",
      "dtypes: float64(3), int64(4), object(13)\n",
      "memory usage: 787.5+ KB\n"
     ]
    }
   ],
   "source": [
    "movies_df.info()"
   ]
  },
  {
   "cell_type": "code",
   "execution_count": 29,
   "metadata": {
    "colab": {
     "base_uri": "https://localhost:8080/"
    },
    "executionInfo": {
     "elapsed": 828,
     "status": "ok",
     "timestamp": 1628207113415,
     "user": {
      "displayName": "김유빈",
      "photoUrl": "",
      "userId": "11244659521636006499"
     },
     "user_tz": -540
    },
    "id": "St_NzNCP17cF",
    "outputId": "09e13e63-d5bd-4954-ec78-661d1b59b4ed"
   },
   "outputs": [
    {
     "name": "stdout",
     "output_type": "stream",
     "text": [
      "(4800, 21262)\n"
     ]
    },
    {
     "data": {
      "text/plain": [
       "array([[0, 0, 0, ..., 0, 0, 0],\n",
       "       [0, 0, 0, ..., 0, 0, 0],\n",
       "       [0, 0, 0, ..., 0, 0, 0],\n",
       "       ...,\n",
       "       [0, 0, 0, ..., 0, 0, 0],\n",
       "       [0, 0, 0, ..., 0, 0, 0],\n",
       "       [0, 0, 0, ..., 0, 0, 0]], dtype=int64)"
      ]
     },
     "execution_count": 29,
     "metadata": {},
     "output_type": "execute_result"
    }
   ],
   "source": [
    "### TODO 1 #### \n",
    "# use CountVectorizer & TfidfVectorizer to construct dtm & dtm_tfidf\n",
    "count_vect = CountVectorizer()\n",
    "\n",
    "overview_vect = count_vect.fit_transform(movies_df['overview'])\n",
    "print(overview_vect.shape)\n",
    "overview_vect.toarray()\n",
    "# dtm = movies_df['overview']\n",
    "# # dtm_tfidf: np = ...  # from csr_matrix to numpy array.  # 이제는 이거 한줄로 끝내기!\n",
    "# ###############\n",
    "# print(dtm)  # should be csr sparse matrix\n",
    "# print(dtm.shape)  # (num_docs, num_terms) 당연히.. 대부분은 0 이겠지! - 다시한번 sparsity를 확인할 수 있다.\n",
    "# print(dtm_tfidf)  # should be csr sparse matrix\n",
    "# print(dtm_tfidf.shape)  # (num_docs, num_terms) 당연히.. 대부분은 0 이겠지! - 다시한번 sparsity를 확인할 수 있다."
   ]
  },
  {
   "cell_type": "code",
   "execution_count": 21,
   "metadata": {
    "colab": {
     "base_uri": "https://localhost:8080/"
    },
    "executionInfo": {
     "elapsed": 4815,
     "status": "ok",
     "timestamp": 1628207121442,
     "user": {
      "displayName": "김유빈",
      "photoUrl": "",
      "userId": "11244659521636006499"
     },
     "user_tz": -540
    },
    "id": "sOrgzyS82axj",
    "outputId": "8a37d841-fe45-4d93-a72f-89bfb8a407ca"
   },
   "outputs": [
    {
     "name": "stdout",
     "output_type": "stream",
     "text": [
      "(4800, 4800)\n"
     ]
    }
   ],
   "source": [
    "# cosine distance -> this is vectorized...\n",
    "sims_cosine = cosine_similarity(overview_vect, overview_vect)\n",
    "# sims_cosine_tfidf = cosine_similarity(dtm_tfidf)  # this may take a while... \n",
    "print(sims_cosine.shape)  # (num_doc, num_doc)\n",
    "# print(sims_cosine_tfidf.shape)  # (num_doc, num_doc)"
   ]
  },
  {
   "cell_type": "code",
   "execution_count": 22,
   "metadata": {},
   "outputs": [
    {
     "data": {
      "text/plain": [
       "array([[1.        , 0.33436693, 0.26462806, ..., 0.32142857, 0.22681618,\n",
       "        0.19015971],\n",
       "       [0.33436693, 1.        , 0.35098206, ..., 0.32043497, 0.33783196,\n",
       "        0.21429865],\n",
       "       [0.26462806, 0.35098206, 1.        , ..., 0.33078508, 0.22917462,\n",
       "        0.2191785 ],\n",
       "       ...,\n",
       "       [0.32142857, 0.32043497, 0.33078508, ..., 1.        , 0.32991444,\n",
       "        0.20072414],\n",
       "       [0.22681618, 0.33783196, 0.22917462, ..., 0.32991444, 1.        ,\n",
       "        0.26837252],\n",
       "       [0.19015971, 0.21429865, 0.2191785 , ..., 0.20072414, 0.26837252,\n",
       "        1.        ]])"
      ]
     },
     "execution_count": 22,
     "metadata": {},
     "output_type": "execute_result"
    }
   ],
   "source": [
    "sims_cosine"
   ]
  },
  {
   "cell_type": "code",
   "execution_count": 26,
   "metadata": {},
   "outputs": [
    {
     "name": "stdout",
     "output_type": "stream",
     "text": [
      "[[   0 3603 3191 ... 4510 3487 4631]\n",
      " [   1  137  274 ... 3608 4510  161]]\n"
     ]
    }
   ],
   "source": [
    "# argsort : 인덱스를 가져옴\n",
    "\n",
    "overview_sim_sorted_ind = sims_cosine.argsort()[:, ::-1]  # argsort\n",
    "print(overview_sim_sorted_ind[:2])"
   ]
  },
  {
   "cell_type": "code",
   "execution_count": 24,
   "metadata": {},
   "outputs": [],
   "source": [
    "def find_sim_movie(df, sorted_ind, title_name, top_n=10):\n",
    "    \n",
    "    # 인자로 입력된 movies_df DataFrame에서 'title' 컬럼이 입력된 title_name 값인 DataFrame추출\n",
    "    title_movie = df[df['title'] == title_name]\n",
    "    \n",
    "    # title_named을 가진 DataFrame의 index 객체를 ndarray로 반환하고 \n",
    "    # sorted_ind 인자로 입력된 genre_sim_sorted_ind 객체에서 유사도 순으로 top_n 개의 index 추출\n",
    "    title_index = title_movie.index.values\n",
    "    print(title_index)\n",
    "    similar_indexes = sorted_ind[title_index, :(top_n)]\n",
    "    \n",
    "    # 추출된 top_n index들 출력. top_n index는 2차원 데이터 임. \n",
    "    #dataframe에서 index로 사용하기 위해서 1차원 array로 변경\n",
    "    print(similar_indexes)\n",
    "    similar_indexes = similar_indexes.reshape(-1)\n",
    "    \n",
    "    return df.iloc[similar_indexes]"
   ]
  },
  {
   "cell_type": "code",
   "execution_count": 34,
   "metadata": {},
   "outputs": [
    {
     "name": "stdout",
     "output_type": "stream",
     "text": [
      "[813]\n",
      "[[ 813   79  311  154  870  599 3223 1995  496 3517]]\n"
     ]
    },
    {
     "data": {
      "text/html": [
       "<div>\n",
       "<style scoped>\n",
       "    .dataframe tbody tr th:only-of-type {\n",
       "        vertical-align: middle;\n",
       "    }\n",
       "\n",
       "    .dataframe tbody tr th {\n",
       "        vertical-align: top;\n",
       "    }\n",
       "\n",
       "    .dataframe thead th {\n",
       "        text-align: right;\n",
       "    }\n",
       "</style>\n",
       "<table border=\"1\" class=\"dataframe\">\n",
       "  <thead>\n",
       "    <tr style=\"text-align: right;\">\n",
       "      <th></th>\n",
       "      <th>title</th>\n",
       "      <th>vote_average</th>\n",
       "    </tr>\n",
       "  </thead>\n",
       "  <tbody>\n",
       "    <tr>\n",
       "      <th>813</th>\n",
       "      <td>Superman</td>\n",
       "      <td>6.9</td>\n",
       "    </tr>\n",
       "    <tr>\n",
       "      <th>79</th>\n",
       "      <td>Iron Man 2</td>\n",
       "      <td>6.6</td>\n",
       "    </tr>\n",
       "    <tr>\n",
       "      <th>311</th>\n",
       "      <td>The Adventures of Pluto Nash</td>\n",
       "      <td>4.4</td>\n",
       "    </tr>\n",
       "    <tr>\n",
       "      <th>154</th>\n",
       "      <td>Rise of the Guardians</td>\n",
       "      <td>7.1</td>\n",
       "    </tr>\n",
       "    <tr>\n",
       "      <th>870</th>\n",
       "      <td>Superman II</td>\n",
       "      <td>6.5</td>\n",
       "    </tr>\n",
       "    <tr>\n",
       "      <th>599</th>\n",
       "      <td>Hart's War</td>\n",
       "      <td>5.9</td>\n",
       "    </tr>\n",
       "    <tr>\n",
       "      <th>3224</th>\n",
       "      <td>All Is Lost</td>\n",
       "      <td>6.6</td>\n",
       "    </tr>\n",
       "    <tr>\n",
       "      <th>1995</th>\n",
       "      <td>Pitch Black</td>\n",
       "      <td>6.7</td>\n",
       "    </tr>\n",
       "    <tr>\n",
       "      <th>496</th>\n",
       "      <td>Cloudy with a Chance of Meatballs 2</td>\n",
       "      <td>6.4</td>\n",
       "    </tr>\n",
       "    <tr>\n",
       "      <th>3518</th>\n",
       "      <td>The Protector</td>\n",
       "      <td>6.8</td>\n",
       "    </tr>\n",
       "  </tbody>\n",
       "</table>\n",
       "</div>"
      ],
      "text/plain": [
       "                                    title  vote_average\n",
       "813                              Superman           6.9\n",
       "79                             Iron Man 2           6.6\n",
       "311          The Adventures of Pluto Nash           4.4\n",
       "154                 Rise of the Guardians           7.1\n",
       "870                           Superman II           6.5\n",
       "599                            Hart's War           5.9\n",
       "3224                          All Is Lost           6.6\n",
       "1995                          Pitch Black           6.7\n",
       "496   Cloudy with a Chance of Meatballs 2           6.4\n",
       "3518                        The Protector           6.8"
      ]
     },
     "execution_count": 34,
     "metadata": {},
     "output_type": "execute_result"
    }
   ],
   "source": [
    "similar_movies = find_sim_movie(movies_df, overview_sim_sorted_ind, 'Superman',10)\n",
    "similar_movies[['title', 'vote_average']]"
   ]
  },
  {
   "cell_type": "markdown",
   "metadata": {},
   "source": [
    "- TFIDF"
   ]
  },
  {
   "cell_type": "code",
   "execution_count": 35,
   "metadata": {},
   "outputs": [],
   "source": [
    "tfidf_vect = TfidfVectorizer()\n",
    "overview_tfidf_vect = tfidf_vect.fit_transform(movies_df['overview'])"
   ]
  },
  {
   "cell_type": "code",
   "execution_count": 36,
   "metadata": {},
   "outputs": [
    {
     "data": {
      "text/plain": [
       "(4800, 21262)"
      ]
     },
     "execution_count": 36,
     "metadata": {},
     "output_type": "execute_result"
    }
   ],
   "source": [
    "overview_tfidf_vect.shape"
   ]
  },
  {
   "cell_type": "code",
   "execution_count": 37,
   "metadata": {},
   "outputs": [],
   "source": [
    "sims_cosine_tfidf = cosine_similarity(overview_tfidf_vect, overview_tfidf_vect)"
   ]
  },
  {
   "cell_type": "code",
   "execution_count": 38,
   "metadata": {},
   "outputs": [
    {
     "data": {
      "text/plain": [
       "array([[1.        , 0.03666088, 0.01944758, ..., 0.03270512, 0.01738049,\n",
       "        0.01366019],\n",
       "       [0.03666088, 1.        , 0.04343445, ..., 0.04862922, 0.03177526,\n",
       "        0.02104553],\n",
       "       [0.01944758, 0.04343445, 1.        , ..., 0.0405689 , 0.01699126,\n",
       "        0.01825306],\n",
       "       ...,\n",
       "       [0.03270512, 0.04862922, 0.0405689 , ..., 1.        , 0.04629301,\n",
       "        0.02385856],\n",
       "       [0.01738049, 0.03177526, 0.01699126, ..., 0.04629301, 1.        ,\n",
       "        0.04715488],\n",
       "       [0.01366019, 0.02104553, 0.01825306, ..., 0.02385856, 0.04715488,\n",
       "        1.        ]])"
      ]
     },
     "execution_count": 38,
     "metadata": {},
     "output_type": "execute_result"
    }
   ],
   "source": [
    "sims_cosine_tfidf"
   ]
  },
  {
   "cell_type": "code",
   "execution_count": 43,
   "metadata": {},
   "outputs": [
    {
     "name": "stdout",
     "output_type": "stream",
     "text": [
      "[[   0 3603  529 ... 4176 4166 1658]\n",
      " [   1 2542 3094 ... 4510 2108 2668]]\n"
     ]
    }
   ],
   "source": [
    "overview_sim_sorted_ind_tfidf = sims_cosine_tfidf.argsort()[:, ::-1]  # argsort\n",
    "print(overview_sim_sorted_ind_tfidf[:2])"
   ]
  },
  {
   "cell_type": "code",
   "execution_count": 44,
   "metadata": {},
   "outputs": [
    {
     "name": "stdout",
     "output_type": "stream",
     "text": [
      "[813]\n",
      "[[ 813  870   10 2433 2527  914 4656 3541 1368   45]]\n"
     ]
    },
    {
     "data": {
      "text/html": [
       "<div>\n",
       "<style scoped>\n",
       "    .dataframe tbody tr th:only-of-type {\n",
       "        vertical-align: middle;\n",
       "    }\n",
       "\n",
       "    .dataframe tbody tr th {\n",
       "        vertical-align: top;\n",
       "    }\n",
       "\n",
       "    .dataframe thead th {\n",
       "        text-align: right;\n",
       "    }\n",
       "</style>\n",
       "<table border=\"1\" class=\"dataframe\">\n",
       "  <thead>\n",
       "    <tr style=\"text-align: right;\">\n",
       "      <th></th>\n",
       "      <th>title</th>\n",
       "      <th>vote_average</th>\n",
       "    </tr>\n",
       "  </thead>\n",
       "  <tbody>\n",
       "    <tr>\n",
       "      <th>813</th>\n",
       "      <td>Superman</td>\n",
       "      <td>6.9</td>\n",
       "    </tr>\n",
       "    <tr>\n",
       "      <th>870</th>\n",
       "      <td>Superman II</td>\n",
       "      <td>6.5</td>\n",
       "    </tr>\n",
       "    <tr>\n",
       "      <th>10</th>\n",
       "      <td>Superman Returns</td>\n",
       "      <td>5.4</td>\n",
       "    </tr>\n",
       "    <tr>\n",
       "      <th>2433</th>\n",
       "      <td>Superman IV: The Quest for Peace</td>\n",
       "      <td>4.1</td>\n",
       "    </tr>\n",
       "    <tr>\n",
       "      <th>2527</th>\n",
       "      <td>National Lampoon's Vacation</td>\n",
       "      <td>7.1</td>\n",
       "    </tr>\n",
       "    <tr>\n",
       "      <th>914</th>\n",
       "      <td>Central Intelligence</td>\n",
       "      <td>6.2</td>\n",
       "    </tr>\n",
       "    <tr>\n",
       "      <th>4659</th>\n",
       "      <td>Horse Camp</td>\n",
       "      <td>5.5</td>\n",
       "    </tr>\n",
       "    <tr>\n",
       "      <th>3542</th>\n",
       "      <td>R100</td>\n",
       "      <td>5.4</td>\n",
       "    </tr>\n",
       "    <tr>\n",
       "      <th>1368</th>\n",
       "      <td>Identity Thief</td>\n",
       "      <td>5.6</td>\n",
       "    </tr>\n",
       "    <tr>\n",
       "      <th>45</th>\n",
       "      <td>World War Z</td>\n",
       "      <td>6.7</td>\n",
       "    </tr>\n",
       "  </tbody>\n",
       "</table>\n",
       "</div>"
      ],
      "text/plain": [
       "                                 title  vote_average\n",
       "813                           Superman           6.9\n",
       "870                        Superman II           6.5\n",
       "10                    Superman Returns           5.4\n",
       "2433  Superman IV: The Quest for Peace           4.1\n",
       "2527       National Lampoon's Vacation           7.1\n",
       "914               Central Intelligence           6.2\n",
       "4659                        Horse Camp           5.5\n",
       "3542                              R100           5.4\n",
       "1368                    Identity Thief           5.6\n",
       "45                         World War Z           6.7"
      ]
     },
     "execution_count": 44,
     "metadata": {},
     "output_type": "execute_result"
    }
   ],
   "source": [
    "similar_movies = find_sim_movie(movies_df, overview_sim_sorted_ind_tfidf, 'Superman',10)\n",
    "similar_movies[['title', 'vote_average']]"
   ]
  },
  {
   "cell_type": "code",
   "execution_count": 45,
   "metadata": {},
   "outputs": [],
   "source": [
    "#초 전체\n",
    "percentile = 0.6\n",
    "m = movies_df['vote_count'].quantile(percentile)\n",
    "C = movies_df['vote_average'].mean()\n",
    "\n",
    "\n",
    "def weighted_vote_average(record):\n",
    "    # 개별\n",
    "    v = record['vote_count']\n",
    "    R = record['vote_average']\n",
    "    \n",
    "    return ( (v/(v+m)) * R ) + ( (m/(m+v)) * C )   \n",
    "\n",
    "movies_df['weighted_vote'] = movies_df.apply(weighted_vote_average, axis=1) # Row별 적용"
   ]
  },
  {
   "cell_type": "code",
   "execution_count": 46,
   "metadata": {},
   "outputs": [],
   "source": [
    "def find_sim_movie(df, sorted_ind, title_name, top_n=10):\n",
    "    title_movie = df[df['title'] == title_name]\n",
    "    title_index = title_movie.index.values\n",
    "    \n",
    "    # top_n의 2배에 해당하는 쟝르 유사성이 높은 index 추출 \n",
    "    similar_indexes = sorted_ind[title_index, :(top_n*2)] # 후보군 추출 (2배)\n",
    "    similar_indexes = similar_indexes.reshape(-1)\n",
    "\n",
    "    # 기준 영화 index는 제외\n",
    "    similar_indexes = similar_indexes[similar_indexes != title_index]\n",
    "    \n",
    "    \n",
    "    # top_n의 2배에 해당하는 후보군에서 weighted_vote 높은 순으로 top_n 만큼 추출 \n",
    "    return df.iloc[similar_indexes].sort_values('weighted_vote', ascending=False)[:top_n]"
   ]
  },
  {
   "cell_type": "code",
   "execution_count": 48,
   "metadata": {},
   "outputs": [
    {
     "data": {
      "text/html": [
       "<div>\n",
       "<style scoped>\n",
       "    .dataframe tbody tr th:only-of-type {\n",
       "        vertical-align: middle;\n",
       "    }\n",
       "\n",
       "    .dataframe tbody tr th {\n",
       "        vertical-align: top;\n",
       "    }\n",
       "\n",
       "    .dataframe thead th {\n",
       "        text-align: right;\n",
       "    }\n",
       "</style>\n",
       "<table border=\"1\" class=\"dataframe\">\n",
       "  <thead>\n",
       "    <tr style=\"text-align: right;\">\n",
       "      <th></th>\n",
       "      <th>title</th>\n",
       "      <th>vote_average</th>\n",
       "      <th>weighted_vote</th>\n",
       "    </tr>\n",
       "  </thead>\n",
       "  <tbody>\n",
       "    <tr>\n",
       "      <th>154</th>\n",
       "      <td>Rise of the Guardians</td>\n",
       "      <td>7.1</td>\n",
       "      <td>6.937057</td>\n",
       "    </tr>\n",
       "    <tr>\n",
       "      <th>45</th>\n",
       "      <td>World War Z</td>\n",
       "      <td>6.7</td>\n",
       "      <td>6.662025</td>\n",
       "    </tr>\n",
       "    <tr>\n",
       "      <th>30</th>\n",
       "      <td>Spider-Man 2</td>\n",
       "      <td>6.7</td>\n",
       "      <td>6.651997</td>\n",
       "    </tr>\n",
       "    <tr>\n",
       "      <th>4664</th>\n",
       "      <td>Bronson</td>\n",
       "      <td>6.9</td>\n",
       "      <td>6.628779</td>\n",
       "    </tr>\n",
       "    <tr>\n",
       "      <th>2527</th>\n",
       "      <td>National Lampoon's Vacation</td>\n",
       "      <td>7.1</td>\n",
       "      <td>6.621603</td>\n",
       "    </tr>\n",
       "    <tr>\n",
       "      <th>2015</th>\n",
       "      <td>Spaceballs</td>\n",
       "      <td>6.7</td>\n",
       "      <td>6.523073</td>\n",
       "    </tr>\n",
       "    <tr>\n",
       "      <th>546</th>\n",
       "      <td>Minions</td>\n",
       "      <td>6.4</td>\n",
       "      <td>6.376947</td>\n",
       "    </tr>\n",
       "    <tr>\n",
       "      <th>870</th>\n",
       "      <td>Superman II</td>\n",
       "      <td>6.5</td>\n",
       "      <td>6.348972</td>\n",
       "    </tr>\n",
       "    <tr>\n",
       "      <th>581</th>\n",
       "      <td>Star Trek: Insurrection</td>\n",
       "      <td>6.3</td>\n",
       "      <td>6.199176</td>\n",
       "    </tr>\n",
       "    <tr>\n",
       "      <th>914</th>\n",
       "      <td>Central Intelligence</td>\n",
       "      <td>6.2</td>\n",
       "      <td>6.180342</td>\n",
       "    </tr>\n",
       "  </tbody>\n",
       "</table>\n",
       "</div>"
      ],
      "text/plain": [
       "                            title  vote_average  weighted_vote\n",
       "154         Rise of the Guardians           7.1       6.937057\n",
       "45                    World War Z           6.7       6.662025\n",
       "30                   Spider-Man 2           6.7       6.651997\n",
       "4664                      Bronson           6.9       6.628779\n",
       "2527  National Lampoon's Vacation           7.1       6.621603\n",
       "2015                   Spaceballs           6.7       6.523073\n",
       "546                       Minions           6.4       6.376947\n",
       "870                   Superman II           6.5       6.348972\n",
       "581       Star Trek: Insurrection           6.3       6.199176\n",
       "914          Central Intelligence           6.2       6.180342"
      ]
     },
     "execution_count": 48,
     "metadata": {},
     "output_type": "execute_result"
    }
   ],
   "source": [
    "similar_movies = find_sim_movie(movies_df, overview_sim_sorted_ind_tfidf, 'Superman',10)\n",
    "similar_movies[['title', 'vote_average', 'weighted_vote']]"
   ]
  },
  {
   "cell_type": "markdown",
   "metadata": {},
   "source": [
    "- 다른 결과 표시 방법"
   ]
  },
  {
   "cell_type": "code",
   "execution_count": 78,
   "metadata": {
    "colab": {
     "base_uri": "https://localhost:8080/"
    },
    "executionInfo": {
     "elapsed": 6,
     "status": "ok",
     "timestamp": 1628207185502,
     "user": {
      "displayName": "김유빈",
      "photoUrl": "",
      "userId": "11244659521636006499"
     },
     "user_tz": -540
    },
    "id": "dd1skSXD2rAd",
    "outputId": "3055ae3e-98bd-40c2-d1bb-e27a5bda0e74"
   },
   "outputs": [
    {
     "data": {
      "text/plain": [
       "title\n",
       "Avatar                                         0\n",
       "Pirates of the Caribbean: At World's End       1\n",
       "Spectre                                        2\n",
       "The Dark Knight Rises                          3\n",
       "John Carter                                    4\n",
       "                                            ... \n",
       "El Mariachi                                 4795\n",
       "Newlyweds                                   4796\n",
       "Signed, Sealed, Delivered                   4797\n",
       "Shanghai Calling                            4798\n",
       "My Date with Drew                           4799\n",
       "Length: 4800, dtype: int64"
      ]
     },
     "execution_count": 78,
     "metadata": {},
     "output_type": "execute_result"
    }
   ],
   "source": [
    "# this is to retrive the titles\n",
    "indices = pd.Series(data=movies_df.index, index=movies_df['title'])\n",
    "indices.shape\n",
    "indices"
   ]
  },
  {
   "cell_type": "code",
   "execution_count": 54,
   "metadata": {
    "id": "7dC8oiowJZvN"
   },
   "outputs": [
    {
     "data": {
      "text/plain": [
       "0"
      ]
     },
     "execution_count": 54,
     "metadata": {},
     "output_type": "execute_result"
    }
   ],
   "source": [
    "indices[\"Avatar\"] "
   ]
  },
  {
   "cell_type": "code",
   "execution_count": 79,
   "metadata": {
    "id": "CLWL0gTVzmH1"
   },
   "outputs": [],
   "source": [
    "def get_recommendations(title, sims, indices, data) :\n",
    "\n",
    "    global TOP_N\n",
    "\n",
    "    # use: np.argsort()[::-1] to recommend titles with scores\n",
    "    title_idx = indices[title]  # 주어진 영화의 인덱스        \n",
    "    sims_to_title = sims[title_idx, :] # (4800,)\n",
    "    \n",
    "    \n",
    "    sims_to_title_sorted  = np.sort(sims_to_title)[::-1] # [::-1] 역순\n",
    "    titles_indices_sorted = np.argsort(sims_to_title)[::-1]\n",
    "    \n",
    "    titles_sorted = data['title'][titles_indices_sorted]\n",
    "        \n",
    "        \n",
    "    results = [\n",
    "        (title, score)\n",
    "        for title, score in zip(titles_sorted, sims_to_title_sorted)\n",
    "    ]\n",
    "    ##############\n",
    "    return results[:TOP_N]"
   ]
  },
  {
   "cell_type": "code",
   "execution_count": 56,
   "metadata": {},
   "outputs": [
    {
     "name": "stdout",
     "output_type": "stream",
     "text": [
      "[3, 2, 1]\n"
     ]
    }
   ],
   "source": [
    "my_list = [1, 2, 3]\n",
    "print(my_list[::-1])"
   ]
  },
  {
   "cell_type": "code",
   "execution_count": 62,
   "metadata": {},
   "outputs": [
    {
     "data": {
      "text/plain": [
       "array([[   0, 3603, 3191, ..., 4510, 3487, 4631],\n",
       "       [   1,  137,  274, ..., 3608, 4510,  161],\n",
       "       [   2, 3932,  432, ..., 1111, 1770, 3492],\n",
       "       ...,\n",
       "       [4797,   19, 3431, ..., 1038,  801, 3685],\n",
       "       [4798, 4245, 1199, ..., 4511, 3622, 4510],\n",
       "       [4799, 2686, 4122, ..., 2614, 3706, 1658]], dtype=int64)"
      ]
     },
     "execution_count": 62,
     "metadata": {},
     "output_type": "execute_result"
    }
   ],
   "source": [
    "overview_sim_sorted_ind"
   ]
  },
  {
   "cell_type": "code",
   "execution_count": 63,
   "metadata": {},
   "outputs": [
    {
     "data": {
      "text/plain": [
       "array([[   0, 3603,  529, ..., 4176, 4166, 1658],\n",
       "       [   1, 2542, 3094, ..., 4510, 2108, 2668],\n",
       "       [   2, 1343, 4070, ..., 4667, 2032, 4615],\n",
       "       ...,\n",
       "       [4797, 4033,  633, ..., 4399, 1658, 2604],\n",
       "       [4798, 2027, 1796, ..., 4510, 4511, 3706],\n",
       "       [4799,  868, 4099, ...,  669, 1273, 4074]], dtype=int64)"
      ]
     },
     "execution_count": 63,
     "metadata": {},
     "output_type": "execute_result"
    }
   ],
   "source": [
    "overview_sim_sorted_ind_tfidf"
   ]
  },
  {
   "cell_type": "code",
   "execution_count": 68,
   "metadata": {},
   "outputs": [
    {
     "data": {
      "text/plain": [
       "array([   0, 3603,  529, ..., 4176, 4166, 1658], dtype=int64)"
      ]
     },
     "execution_count": 68,
     "metadata": {},
     "output_type": "execute_result"
    }
   ],
   "source": [
    "overview_sim_sorted_ind_tfidf[0, :] "
   ]
  },
  {
   "cell_type": "code",
   "execution_count": 83,
   "metadata": {
    "colab": {
     "base_uri": "https://localhost:8080/"
    },
    "executionInfo": {
     "elapsed": 381,
     "status": "ok",
     "timestamp": 1628207593037,
     "user": {
      "displayName": "김유빈",
      "photoUrl": "",
      "userId": "11244659521636006499"
     },
     "user_tz": -540
    },
    "id": "QtFA07PirO4N",
    "outputId": "3500877e-45cc-47f8-fe63-bb3e2b177d09",
    "tags": []
   },
   "outputs": [
    {
     "name": "stdout",
     "output_type": "stream",
     "text": [
      "#### dtm + cosine sim ####\n",
      "0 Superman 1.0000000000000004\n",
      "1 Iron Man 2 0.4609327677584255\n",
      "2 The Adventures of Pluto Nash 0.4589285179800713\n",
      "3 Rise of the Guardians 0.4572380853195265\n",
      "4 Superman II 0.4556611884328836\n",
      "5 Hart's War 0.4448508420389507\n",
      "6 All Is Lost 0.4448396935314748\n",
      "7 Pitch Black 0.4421388081402907\n",
      "8 Cloudy with a Chance of Meatballs 2 0.4400152785735414\n",
      "9 The Protector 0.4391485006492564\n",
      "10 Semi-Pro 0.4381780460041329\n",
      "11 The Four Feathers 0.4370956778314645\n",
      "12 Invaders from Mars 0.4349679071977275\n",
      "13 Gladiator 0.43404648300994053\n",
      "14 The Midnight Meat Train 0.4323586743502425\n",
      "15 The Shadow 0.431974468860803\n",
      "16 54 0.42875376060629783\n",
      "17 Once in a Lifetime: The Extraordinary Story of the New York Cosmos 0.4232029952561754\n",
      "18 The Tree of Life 0.4230143927463794\n",
      "19 Dinner Rush 0.4224711211252415\n",
      "20 Air Force One 0.4221585268381751\n",
      "21 The Visitors II: The Corridors of Time 0.42176248989638454\n",
      "22 Me You and Five Bucks 0.4208834246473209\n",
      "23 F.I.S.T. 0.42077622506380674\n",
      "24 The Longest Day 0.4206511243549132\n",
      "25 Harry Potter and the Philosopher's Stone 0.4184914994777495\n",
      "26 The Walking Deceased 0.4164073266987447\n",
      "27 A Turtle's Tale: Sammy's Adventures 0.4145305977106589\n",
      "28 Captain America: The Winter Soldier 0.41434591790258984\n",
      "29 The Pink Panther 0.41425492496425775\n",
      "#### tfidf + cosine sim ####\n",
      "0 Superman 1.0000000000000002\n",
      "1 Superman II 0.279897156741395\n",
      "2 Superman Returns 0.21611287885828273\n",
      "3 Superman IV: The Quest for Peace 0.2137079178720081\n",
      "4 National Lampoon's Vacation 0.14770652044493998\n",
      "5 Central Intelligence 0.1402720903174626\n",
      "6 Horse Camp 0.1356704017731285\n",
      "7 R100 0.13159647412885256\n",
      "8 Identity Thief 0.1298072535597723\n",
      "9 World War Z 0.11894584466771242\n",
      "10 Spider-Man 2 0.11178538549587543\n",
      "11 The Out-of-Towners 0.1116287225120889\n",
      "12 Rise of the Guardians 0.10836717650538426\n",
      "13 Brick Lane 0.10621414499176535\n",
      "14 Daddy's Home 0.10501033936725575\n",
      "15 Minions 0.09959434591945344\n",
      "16 Bronson 0.09948046073927232\n",
      "17 Spaceballs 0.09806223505936092\n",
      "18 Star Trek: Insurrection 0.09672912191291447\n",
      "19 Superman III 0.09634088065137213\n",
      "20 Demonic 0.09581124659397443\n",
      "21 Death Sentence 0.09382069503324543\n",
      "22 My Boss's Daughter 0.09324396705141048\n",
      "23 Event Horizon 0.0929876760785302\n",
      "24 Iron Man 2 0.09040659676272364\n",
      "25 Under the Rainbow 0.0897616871974121\n",
      "26 Interview with the Vampire 0.08852264528309652\n",
      "27 How to Fall in Love 0.08846321218685498\n",
      "28 Steamboy 0.08820106357335043\n",
      "29 Griff the Invisible 0.08767257186267799\n"
     ]
    }
   ],
   "source": [
    "# compare the results of dtm with tfidf\n",
    "# 이유는 다들 알고 계십니다! ㅎㅎ\n",
    "print(\"#### dtm + cosine sim ####\")\n",
    "for idx, (title, score) in enumerate(get_recommendations(\"Superman\", sims_cosine, indices, movies_df)):\n",
    "  print(idx, title, score)\n",
    "print(\"#### tfidf + cosine sim ####\")\n",
    "for idx, (title, score) in enumerate(get_recommendations(\"Superman\", sims_cosine_tfidf, indices, movies_df)):\n",
    "  print(idx, title, score)"
   ]
  }
 ],
 "metadata": {
  "colab": {
   "authorship_tag": "ABX9TyPtT+eQW6tclFSeYRO4dysg",
   "collapsed_sections": [],
   "name": "C_recommend_movies.ipynb",
   "provenance": []
  },
  "kernelspec": {
   "display_name": "Python 3",
   "language": "python",
   "name": "python3"
  },
  "language_info": {
   "codemirror_mode": {
    "name": "ipython",
    "version": 3
   },
   "file_extension": ".py",
   "mimetype": "text/x-python",
   "name": "python",
   "nbconvert_exporter": "python",
   "pygments_lexer": "ipython3",
   "version": "3.8.8"
  }
 },
 "nbformat": 4,
 "nbformat_minor": 4
}
